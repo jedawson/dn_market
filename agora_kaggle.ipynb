{
 "cells": [
  {
   "cell_type": "code",
   "execution_count": 1,
   "metadata": {},
   "outputs": [],
   "source": [
    "import pandas as pd\n",
    "import numpy as np"
   ]
  },
  {
   "cell_type": "code",
   "execution_count": 40,
   "metadata": {},
   "outputs": [],
   "source": [
    "from sklearn import preprocessing"
   ]
  },
  {
   "cell_type": "code",
   "execution_count": 55,
   "metadata": {},
   "outputs": [],
   "source": [
    "from sklearn.model_selection import train_test_split"
   ]
  },
  {
   "cell_type": "code",
   "execution_count": 69,
   "metadata": {},
   "outputs": [],
   "source": [
    "import re\n",
    "import string"
   ]
  },
  {
   "cell_type": "code",
   "execution_count": 99,
   "metadata": {},
   "outputs": [],
   "source": [
    "from sklearn.feature_extraction.text import CountVectorizer"
   ]
  },
  {
   "cell_type": "code",
   "execution_count": 104,
   "metadata": {},
   "outputs": [],
   "source": [
    "from sklearn.ensemble import RandomForestClassifier"
   ]
  },
  {
   "cell_type": "code",
   "execution_count": 106,
   "metadata": {},
   "outputs": [],
   "source": [
    "from sklearn.metrics import accuracy_score"
   ]
  },
  {
   "cell_type": "code",
   "execution_count": 117,
   "metadata": {},
   "outputs": [],
   "source": [
    "from sklearn.naive_bayes import MultinomialNB"
   ]
  },
  {
   "cell_type": "code",
   "execution_count": 116,
   "metadata": {},
   "outputs": [],
   "source": [
    "import pickle"
   ]
  },
  {
   "cell_type": "code",
   "execution_count": 118,
   "metadata": {},
   "outputs": [],
   "source": [
    "from sklearn.metrics import confusion_matrix"
   ]
  },
  {
   "cell_type": "code",
   "execution_count": 4,
   "metadata": {},
   "outputs": [
    {
     "data": {
      "text/html": [
       "<div>\n",
       "<style scoped>\n",
       "    .dataframe tbody tr th:only-of-type {\n",
       "        vertical-align: middle;\n",
       "    }\n",
       "\n",
       "    .dataframe tbody tr th {\n",
       "        vertical-align: top;\n",
       "    }\n",
       "\n",
       "    .dataframe thead th {\n",
       "        text-align: right;\n",
       "    }\n",
       "</style>\n",
       "<table border=\"1\" class=\"dataframe\">\n",
       "  <thead>\n",
       "    <tr style=\"text-align: right;\">\n",
       "      <th></th>\n",
       "      <th>Vendor</th>\n",
       "      <th>Category</th>\n",
       "      <th>Item</th>\n",
       "      <th>Item Description</th>\n",
       "      <th>Price</th>\n",
       "      <th>Origin</th>\n",
       "      <th>Destination</th>\n",
       "      <th>Rating</th>\n",
       "      <th>Remarks</th>\n",
       "    </tr>\n",
       "  </thead>\n",
       "  <tbody>\n",
       "    <tr>\n",
       "      <th>29425</th>\n",
       "      <td>rc4me</td>\n",
       "      <td>Drugs/Psychedelics/2C</td>\n",
       "      <td>2C-I - 25g</td>\n",
       "      <td>IUPAC name : 2 5-Dimethoxy-4-iodophenethylamin...</td>\n",
       "      <td>2.796305871090909 BTC</td>\n",
       "      <td>China</td>\n",
       "      <td>NaN</td>\n",
       "      <td>5.00/5</td>\n",
       "      <td>Average price may be skewed outliar &gt; .5 BTC f...</td>\n",
       "    </tr>\n",
       "    <tr>\n",
       "      <th>108165</th>\n",
       "      <td>QualityMedicine</td>\n",
       "      <td>Drugs/Cannabis/Weed</td>\n",
       "      <td>AA Indoor Blue Dream HP</td>\n",
       "      <td>Indoor Blue Dream  nice frost dense nugs.</td>\n",
       "      <td>2.01817464 BTC</td>\n",
       "      <td>USA</td>\n",
       "      <td>NaN</td>\n",
       "      <td>4.884/5</td>\n",
       "      <td>NaN</td>\n",
       "    </tr>\n",
       "    <tr>\n",
       "      <th>90338</th>\n",
       "      <td>TheWhiteShadow</td>\n",
       "      <td>Drugs/Psychedelics/NB</td>\n",
       "      <td>100 x 25i-NBOME 1200ug Blotters</td>\n",
       "      <td>*****SR SELLER - AGORA HALF PRICE STARTING UP ...</td>\n",
       "      <td>0.42301024 BTC</td>\n",
       "      <td>Australia</td>\n",
       "      <td>Australia</td>\n",
       "      <td>[0 deals]</td>\n",
       "      <td>NaN</td>\n",
       "    </tr>\n",
       "    <tr>\n",
       "      <th>59555</th>\n",
       "      <td>SweetShop</td>\n",
       "      <td>Drugs/Benzos</td>\n",
       "      <td>Flubromazolam Mints .50mg x25</td>\n",
       "      <td>Want a convenient way to get flubromazolam  bu...</td>\n",
       "      <td>0.11994839333333333 BTC</td>\n",
       "      <td>USA</td>\n",
       "      <td>NaN</td>\n",
       "      <td>~5/5</td>\n",
       "      <td>NaN</td>\n",
       "    </tr>\n",
       "    <tr>\n",
       "      <th>59895</th>\n",
       "      <td>Auxilium</td>\n",
       "      <td>Drugs/Steroids</td>\n",
       "      <td>Equipoise (Boldenone Undecylenate) - 250g Raw ...</td>\n",
       "      <td>Please read entire profile before purchase!!! ...</td>\n",
       "      <td>2.6343427714285714 BTC</td>\n",
       "      <td>USA</td>\n",
       "      <td>World</td>\n",
       "      <td>~5/5</td>\n",
       "      <td>NaN</td>\n",
       "    </tr>\n",
       "    <tr>\n",
       "      <th>2048</th>\n",
       "      <td>fake</td>\n",
       "      <td>Information/eBooks</td>\n",
       "      <td>Cloning Credit Cards - 2 ebooks</td>\n",
       "      <td>A combined pre-play and downgrade attack on EM...</td>\n",
       "      <td>0.03352600929203538 BTC</td>\n",
       "      <td>NaN</td>\n",
       "      <td>NaN</td>\n",
       "      <td>4.782/5</td>\n",
       "      <td>NaN</td>\n",
       "    </tr>\n",
       "    <tr>\n",
       "      <th>93800</th>\n",
       "      <td>TheHappyGuy</td>\n",
       "      <td>Drugs/Cannabis/Weed</td>\n",
       "      <td>4oz Bubba Trainwreak</td>\n",
       "      <td>Finalize Early Listing: Ships PRIORITY  4oz Un...</td>\n",
       "      <td>2.0137963500000002 BTC</td>\n",
       "      <td>USA</td>\n",
       "      <td>USA</td>\n",
       "      <td>4.993/5</td>\n",
       "      <td>NaN</td>\n",
       "    </tr>\n",
       "    <tr>\n",
       "      <th>32186</th>\n",
       "      <td>Hackyboy</td>\n",
       "      <td>Services/Money</td>\n",
       "      <td>Anon. exchanger cash deposit to BTC</td>\n",
       "      <td>**This is for Cash Deposit only at Bank of Ame...</td>\n",
       "      <td>0.0041155716666666665 BTC</td>\n",
       "      <td>Torland</td>\n",
       "      <td>NaN</td>\n",
       "      <td>4.897/5</td>\n",
       "      <td>NaN</td>\n",
       "    </tr>\n",
       "    <tr>\n",
       "      <th>27810</th>\n",
       "      <td>pablo-ijscobar</td>\n",
       "      <td>Drugs/Dissociatives/MXE</td>\n",
       "      <td>10g MXE Methoxetamine Free Shipping</td>\n",
       "      <td>Here i offer you MXE (Methoxetamine). This is ...</td>\n",
       "      <td>0.9226989057446806 BTC</td>\n",
       "      <td>Netherlands</td>\n",
       "      <td>Worldwide</td>\n",
       "      <td>4.92/5</td>\n",
       "      <td>NaN</td>\n",
       "    </tr>\n",
       "    <tr>\n",
       "      <th>37681</th>\n",
       "      <td>5588</td>\n",
       "      <td>Drugs/Stimulants/Cocaine</td>\n",
       "      <td>14grams half OZ of COCAINE Coke 14G ABOVE 70% ...</td>\n",
       "      <td>Above 70% and that's not bullshit!  Over 75% p...</td>\n",
       "      <td>2.052269013913043 BTC</td>\n",
       "      <td>USA</td>\n",
       "      <td>NaN</td>\n",
       "      <td>4.979/5</td>\n",
       "      <td>NaN</td>\n",
       "    </tr>\n",
       "  </tbody>\n",
       "</table>\n",
       "</div>"
      ],
      "text/plain": [
       "                 Vendor                  Category  \\\n",
       "29425             rc4me     Drugs/Psychedelics/2C   \n",
       "108165  QualityMedicine       Drugs/Cannabis/Weed   \n",
       "90338    TheWhiteShadow     Drugs/Psychedelics/NB   \n",
       "59555         SweetShop              Drugs/Benzos   \n",
       "59895          Auxilium            Drugs/Steroids   \n",
       "2048               fake        Information/eBooks   \n",
       "93800       TheHappyGuy       Drugs/Cannabis/Weed   \n",
       "32186          Hackyboy            Services/Money   \n",
       "27810    pablo-ijscobar   Drugs/Dissociatives/MXE   \n",
       "37681              5588  Drugs/Stimulants/Cocaine   \n",
       "\n",
       "                                                     Item  \\\n",
       "29425                                          2C-I - 25g   \n",
       "108165                            AA Indoor Blue Dream HP   \n",
       "90338                     100 x 25i-NBOME 1200ug Blotters   \n",
       "59555                       Flubromazolam Mints .50mg x25   \n",
       "59895   Equipoise (Boldenone Undecylenate) - 250g Raw ...   \n",
       "2048                      Cloning Credit Cards - 2 ebooks   \n",
       "93800                                4oz Bubba Trainwreak   \n",
       "32186                 Anon. exchanger cash deposit to BTC   \n",
       "27810                 10g MXE Methoxetamine Free Shipping   \n",
       "37681   14grams half OZ of COCAINE Coke 14G ABOVE 70% ...   \n",
       "\n",
       "                                         Item Description  \\\n",
       "29425   IUPAC name : 2 5-Dimethoxy-4-iodophenethylamin...   \n",
       "108165          Indoor Blue Dream  nice frost dense nugs.   \n",
       "90338   *****SR SELLER - AGORA HALF PRICE STARTING UP ...   \n",
       "59555   Want a convenient way to get flubromazolam  bu...   \n",
       "59895   Please read entire profile before purchase!!! ...   \n",
       "2048    A combined pre-play and downgrade attack on EM...   \n",
       "93800   Finalize Early Listing: Ships PRIORITY  4oz Un...   \n",
       "32186   **This is for Cash Deposit only at Bank of Ame...   \n",
       "27810   Here i offer you MXE (Methoxetamine). This is ...   \n",
       "37681   Above 70% and that's not bullshit!  Over 75% p...   \n",
       "\n",
       "                            Price       Origin  Destination     Rating  \\\n",
       "29425       2.796305871090909 BTC        China          NaN     5.00/5   \n",
       "108165             2.01817464 BTC          USA          NaN    4.884/5   \n",
       "90338              0.42301024 BTC    Australia    Australia  [0 deals]   \n",
       "59555     0.11994839333333333 BTC          USA          NaN       ~5/5   \n",
       "59895      2.6343427714285714 BTC          USA        World       ~5/5   \n",
       "2048      0.03352600929203538 BTC          NaN          NaN    4.782/5   \n",
       "93800      2.0137963500000002 BTC          USA          USA    4.993/5   \n",
       "32186   0.0041155716666666665 BTC      Torland          NaN    4.897/5   \n",
       "27810      0.9226989057446806 BTC  Netherlands    Worldwide     4.92/5   \n",
       "37681       2.052269013913043 BTC          USA          NaN    4.979/5   \n",
       "\n",
       "                                                  Remarks  \n",
       "29425   Average price may be skewed outliar > .5 BTC f...  \n",
       "108165                                                NaN  \n",
       "90338                                                 NaN  \n",
       "59555                                                 NaN  \n",
       "59895                                                 NaN  \n",
       "2048                                                  NaN  \n",
       "93800                                                 NaN  \n",
       "32186                                                 NaN  \n",
       "27810                                                 NaN  \n",
       "37681                                                 NaN  "
      ]
     },
     "execution_count": 4,
     "metadata": {},
     "output_type": "execute_result"
    }
   ],
   "source": [
    "agora_df = pd.read_csv('/Volumes/SeagateBlue/ds_data/dark_net_market/Agora.csv', encoding = \"ISO-8859-1\")\n",
    "agora_df.sample(10)"
   ]
  },
  {
   "cell_type": "code",
   "execution_count": 13,
   "metadata": {},
   "outputs": [
    {
     "data": {
      "text/plain": [
       "Index(['vendor', 'category', 'item', 'item_description', 'price', 'origin',\n",
       "       'destination', 'rating', 'remarks'],\n",
       "      dtype='object')"
      ]
     },
     "execution_count": 13,
     "metadata": {},
     "output_type": "execute_result"
    }
   ],
   "source": [
    "# clean the column names\n",
    "agora_df.columns = agora_df.columns.str.lstrip().str.lower().str.replace(' ', '_')\n",
    "agora_df.columns"
   ]
  },
  {
   "cell_type": "code",
   "execution_count": 89,
   "metadata": {},
   "outputs": [],
   "source": [
    "#remove row with na in item column\n",
    "agora_df.dropna(subset=['item'], inplace=True)"
   ]
  },
  {
   "cell_type": "code",
   "execution_count": 28,
   "metadata": {},
   "outputs": [
    {
     "data": {
      "text/plain": [
       "Drugs/Cannabis/Weed                                                         21272\n",
       "Drugs/Ecstasy/Pills                                                          7534\n",
       "Drugs/Ecstasy/MDMA                                                           6116\n",
       "Drugs/Stimulants/Cocaine                                                     6007\n",
       "Drugs/Prescription                                                           5561\n",
       "Drugs/Benzos                                                                 5393\n",
       "Drugs/Cannabis/Concentrates                                                  4257\n",
       "Drugs/Psychedelics/LSD                                                       3775\n",
       "Drugs/Cannabis/Hash                                                          3241\n",
       "Drugs/Steroids                                                               2779\n",
       "Drugs/Stimulants/Meth                                                        2467\n",
       "Drugs/Stimulants/Speed                                                       2401\n",
       "Drugs/RCs                                                                    2182\n",
       "Drugs/Stimulants/Prescription                                                1956\n",
       "Drugs/Opioids/Heroin                                                         1799\n",
       "Services/Money                                                               1481\n",
       "Other                                                                        1425\n",
       "Drugs/Opioids/Oxycodone                                                      1360\n",
       "Counterfeits/Watches                                                         1309\n",
       "Drugs/Opioids                                                                1236\n",
       "Data/Accounts                                                                1233\n",
       "Drugs/Psychedelics/Mushrooms                                                 1140\n",
       "Drugs/Cannabis/Edibles                                                       1109\n",
       "Drugs/Ecstasy/Other                                                          1004\n",
       "Drugs/Dissociatives/Ketamine                                                  992\n",
       "Drugs/Psychedelics/NB                                                         974\n",
       "Drugs/Psychedelics/2C                                                         932\n",
       "Information/Guides                                                            927\n",
       "Information/eBooks                                                            918\n",
       "Drugs/Other                                                                   872\n",
       "                                                                            ...  \n",
       "Drugs/Psychedelics/Spores                                                      80\n",
       "Drugs/Dissociatives/GBL                                                        76\n",
       "Info/eBooks/Economy                                                            76\n",
       "Drugs/Dissociatives/Other                                                      63\n",
       "Drug paraphernalia/Paper                                                       61\n",
       "Counterfeits/Electronics                                                       59\n",
       "Weapons/Non-lethal firearms                                                    57\n",
       "Drugs/Opioids/Dihydrocodeine                                                   54\n",
       "Drug paraphernalia/Scales                                                      47\n",
       "Drug paraphernalia/Injecting equipment/Syringes                                45\n",
       "Info/eBooks/Doomsday                                                           43\n",
       "Drugs/Stimulants/Mephedrone                                                    40\n",
       "Info/eBooks/Psychology                                                         40\n",
       "Drugs/Psychedelics/Salvia                                                      37\n",
       "Drugs/Barbiturates                                                             30\n",
       "Drug paraphernalia/Injecting equipment/Other                                   30\n",
       "Tobacco/Paraphernalia                                                          27\n",
       "Info/eBooks/Politics                                                           26\n",
       "Info/eBooks/Philosophy                                                         25\n",
       "Drug paraphernalia/Injecting equipment/Needles                                 15\n",
       "Weapons/Fireworks                                                              14\n",
       "Info/eBooks/Aliens/UFOs                                                        10\n",
       "Forgeries                                                                       8\n",
       "Drug paraphernalia/Injecting equipment/Filters                                  6\n",
       "Drugs/Dissociatives/PCP                                                         4\n",
       "the Body Bags  shotty  and Mac make-up To: Kind Hearts and Gentle People        1\n",
       "the Body Bags  shotty  and mag To: Kind Hearts and Gentle People                1\n",
       "home of the Body Bags  shotty  and mag  Kind Hearts and Gentle People           1\n",
       "0.12780125125 BTC                                                               1\n",
       "0.1905617980645162 BTC                                                          1\n",
       "Name: category, Length: 109, dtype: int64"
      ]
     },
     "execution_count": 28,
     "metadata": {},
     "output_type": "execute_result"
    }
   ],
   "source": [
    "agora_df.category.value_counts()"
   ]
  },
  {
   "cell_type": "code",
   "execution_count": 27,
   "metadata": {},
   "outputs": [
    {
     "data": {
      "text/plain": [
       "(109689, 9)"
      ]
     },
     "execution_count": 27,
     "metadata": {},
     "output_type": "execute_result"
    }
   ],
   "source": [
    "agora_df.shape"
   ]
  },
  {
   "cell_type": "code",
   "execution_count": 26,
   "metadata": {},
   "outputs": [
    {
     "data": {
      "text/plain": [
       "(109684, 9)"
      ]
     },
     "execution_count": 26,
     "metadata": {},
     "output_type": "execute_result"
    }
   ],
   "source": [
    "agora_df.loc[agora_df.category.isin(\n",
    "    agora_df.category.value_counts()[agora_df.category.value_counts() > 1].index)].shape"
   ]
  },
  {
   "cell_type": "code",
   "execution_count": 29,
   "metadata": {},
   "outputs": [],
   "source": [
    "# remove the rows that have a category value count of 1\n",
    "agora_df = agora_df.loc[agora_df.category.isin(\n",
    "    agora_df.category.value_counts()[agora_df.category.value_counts() > 1].index)]"
   ]
  },
  {
   "cell_type": "code",
   "execution_count": 31,
   "metadata": {},
   "outputs": [
    {
     "data": {
      "text/plain": [
       "(104,)"
      ]
     },
     "execution_count": 31,
     "metadata": {},
     "output_type": "execute_result"
    }
   ],
   "source": [
    "agora_df.category.value_counts().shape"
   ]
  },
  {
   "cell_type": "code",
   "execution_count": 42,
   "metadata": {},
   "outputs": [],
   "source": [
    "le = preprocessing.LabelEncoder()"
   ]
  },
  {
   "cell_type": "code",
   "execution_count": 95,
   "metadata": {},
   "outputs": [
    {
     "data": {
      "text/plain": [
       "LabelEncoder()"
      ]
     },
     "execution_count": 95,
     "metadata": {},
     "output_type": "execute_result"
    }
   ],
   "source": [
    "le.fit(agora_df.category)"
   ]
  },
  {
   "cell_type": "code",
   "execution_count": 96,
   "metadata": {},
   "outputs": [
    {
     "data": {
      "text/plain": [
       "array(['Chemicals', 'Counterfeits/Accessories', 'Counterfeits/Clothing',\n",
       "       'Counterfeits/Electronics', 'Counterfeits/Money',\n",
       "       'Counterfeits/Watches', 'Data/Accounts', 'Data/Pirated',\n",
       "       'Data/Software', 'Drug paraphernalia/Containers',\n",
       "       'Drug paraphernalia/Grinders',\n",
       "       'Drug paraphernalia/Injecting equipment/Filters',\n",
       "       'Drug paraphernalia/Injecting equipment/Needles',\n",
       "       'Drug paraphernalia/Injecting equipment/Other',\n",
       "       'Drug paraphernalia/Injecting equipment/Syringes',\n",
       "       'Drug paraphernalia/Paper', 'Drug paraphernalia/Pipes',\n",
       "       'Drug paraphernalia/Scales', 'Drug paraphernalia/Stashes',\n",
       "       'Drugs/Barbiturates', 'Drugs/Benzos',\n",
       "       'Drugs/Cannabis/Concentrates', 'Drugs/Cannabis/Edibles',\n",
       "       'Drugs/Cannabis/Hash', 'Drugs/Cannabis/Seeds',\n",
       "       'Drugs/Cannabis/Shake/trim', 'Drugs/Cannabis/Synthetics',\n",
       "       'Drugs/Cannabis/Weed', 'Drugs/Dissociatives/GBL',\n",
       "       'Drugs/Dissociatives/GHB', 'Drugs/Dissociatives/Ketamine',\n",
       "       'Drugs/Dissociatives/MXE', 'Drugs/Dissociatives/Other',\n",
       "       'Drugs/Dissociatives/PCP', 'Drugs/Ecstasy/MDA',\n",
       "       'Drugs/Ecstasy/MDMA', 'Drugs/Ecstasy/Other', 'Drugs/Ecstasy/Pills',\n",
       "       'Drugs/Opioids', 'Drugs/Opioids/Buprenorphine',\n",
       "       'Drugs/Opioids/Codeine', 'Drugs/Opioids/Dihydrocodeine',\n",
       "       'Drugs/Opioids/Fentanyl', 'Drugs/Opioids/Heroin',\n",
       "       'Drugs/Opioids/Hydrocodone', 'Drugs/Opioids/Morphine',\n",
       "       'Drugs/Opioids/Opium', 'Drugs/Opioids/Other',\n",
       "       'Drugs/Opioids/Oxycodone', 'Drugs/Other', 'Drugs/Prescription',\n",
       "       'Drugs/Psychedelics/2C', 'Drugs/Psychedelics/5-MeO',\n",
       "       'Drugs/Psychedelics/DMT', 'Drugs/Psychedelics/LSD',\n",
       "       'Drugs/Psychedelics/Mescaline', 'Drugs/Psychedelics/Mushrooms',\n",
       "       'Drugs/Psychedelics/NB', 'Drugs/Psychedelics/Other',\n",
       "       'Drugs/Psychedelics/Others', 'Drugs/Psychedelics/Salvia',\n",
       "       'Drugs/Psychedelics/Spores', 'Drugs/RCs', 'Drugs/Steroids',\n",
       "       'Drugs/Stimulants/Cocaine', 'Drugs/Stimulants/Mephedrone',\n",
       "       'Drugs/Stimulants/Meth', 'Drugs/Stimulants/Prescription',\n",
       "       'Drugs/Stimulants/Speed', 'Drugs/Weight loss', 'Electronics',\n",
       "       'Forgeries', 'Forgeries/Other', 'Forgeries/Physical documents',\n",
       "       'Forgeries/Scans/Photos', 'Info/eBooks/Aliens/UFOs',\n",
       "       'Info/eBooks/Anonymity', 'Info/eBooks/Doomsday',\n",
       "       'Info/eBooks/Drugs', 'Info/eBooks/Economy', 'Info/eBooks/IT',\n",
       "       'Info/eBooks/Making money', 'Info/eBooks/Other',\n",
       "       'Info/eBooks/Philosophy', 'Info/eBooks/Politics',\n",
       "       'Info/eBooks/Psychology', 'Info/eBooks/Relationships/Sex',\n",
       "       'Info/eBooks/Science', 'Information/Guides', 'Information/eBooks',\n",
       "       'Jewelry', 'Other', 'Services/Advertising', 'Services/Hacking',\n",
       "       'Services/Money', 'Services/Other', 'Services/Travel',\n",
       "       'Tobacco/Paraphernalia', 'Tobacco/Smoked', 'Weapons/Ammunition',\n",
       "       'Weapons/Fireworks', 'Weapons/Lethal firearms', 'Weapons/Melee',\n",
       "       'Weapons/Non-lethal firearms'], dtype=object)"
      ]
     },
     "execution_count": 96,
     "metadata": {},
     "output_type": "execute_result"
    }
   ],
   "source": [
    "le.classes_"
   ]
  },
  {
   "cell_type": "code",
   "execution_count": 97,
   "metadata": {},
   "outputs": [
    {
     "data": {
      "text/plain": [
       "array([93, 93, 93, 93, 93])"
      ]
     },
     "execution_count": 97,
     "metadata": {},
     "output_type": "execute_result"
    }
   ],
   "source": [
    "y = le.transform(agora_df.category)\n",
    "y[:5]"
   ]
  },
  {
   "cell_type": "code",
   "execution_count": 79,
   "metadata": {},
   "outputs": [],
   "source": [
    "# text preprocessing\n",
    "alphanumeric = lambda x: re.sub(r'\\w*\\d\\w*', ' ', x)\n",
    "punc_lower = lambda x: re.sub(r'[%s]' % re.escape(string.punctuation), ' ', x.lower())"
   ]
  },
  {
   "cell_type": "code",
   "execution_count": 92,
   "metadata": {},
   "outputs": [
    {
     "data": {
      "text/plain": [
       "0                             month huluplus gift code\n",
       "1    pay tv sky uk  sky germany hd tv  and much mor...\n",
       "2                 official account creator extreme    \n",
       "3                            vpn   tor   sock tutorial\n",
       "4                               facebook hacking guide\n",
       "Name: item, dtype: object"
      ]
     },
     "execution_count": 92,
     "metadata": {},
     "output_type": "execute_result"
    }
   ],
   "source": [
    "agora_df.item = agora_df.item.map(alphanumeric).map(punc_lower)\n",
    "agora_df.item.head()"
   ]
  },
  {
   "cell_type": "code",
   "execution_count": 93,
   "metadata": {},
   "outputs": [
    {
     "data": {
      "text/plain": [
       "array(['  month huluplus gift code',\n",
       "       'pay tv sky uk  sky germany hd tv  and much more   cccam service   months',\n",
       "       'official account creator extreme    ',\n",
       "       'vpn   tor   sock tutorial', 'facebook hacking guide'],\n",
       "      dtype=object)"
      ]
     },
     "execution_count": 93,
     "metadata": {},
     "output_type": "execute_result"
    }
   ],
   "source": [
    "X = agora_df.item.values\n",
    "X[:5]"
   ]
  },
  {
   "cell_type": "code",
   "execution_count": 98,
   "metadata": {},
   "outputs": [],
   "source": [
    "X_train, X_test, y_train, y_test = train_test_split(X, y, test_size=0.25, stratify=y, random_state=42)"
   ]
  },
  {
   "cell_type": "code",
   "execution_count": 100,
   "metadata": {},
   "outputs": [],
   "source": [
    "cv1 = CountVectorizer(stop_words='english')\n",
    "\n",
    "X_train_cv1 = cv1.fit_transform(X_train)\n",
    "X_test_cv1  = cv1.transform(X_test)"
   ]
  },
  {
   "cell_type": "code",
   "execution_count": 105,
   "metadata": {},
   "outputs": [],
   "source": [
    "rfc = RandomForestClassifier()"
   ]
  },
  {
   "cell_type": "code",
   "execution_count": 107,
   "metadata": {},
   "outputs": [
    {
     "name": "stderr",
     "output_type": "stream",
     "text": [
      "/Users/jonathandawson/anaconda3/lib/python3.6/site-packages/sklearn/ensemble/forest.py:248: FutureWarning: The default value of n_estimators will change from 10 in version 0.20 to 100 in 0.22.\n",
      "  \"10 in version 0.20 to 100 in 0.22.\", FutureWarning)\n"
     ]
    },
    {
     "data": {
      "text/plain": [
       "RandomForestClassifier(bootstrap=True, class_weight=None, criterion='gini',\n",
       "            max_depth=None, max_features='auto', max_leaf_nodes=None,\n",
       "            min_impurity_decrease=0.0, min_impurity_split=None,\n",
       "            min_samples_leaf=1, min_samples_split=2,\n",
       "            min_weight_fraction_leaf=0.0, n_estimators=10, n_jobs=None,\n",
       "            oob_score=False, random_state=None, verbose=0,\n",
       "            warm_start=False)"
      ]
     },
     "execution_count": 107,
     "metadata": {},
     "output_type": "execute_result"
    }
   ],
   "source": [
    "rfc.fit(X_train_cv1, y_train)"
   ]
  },
  {
   "cell_type": "code",
   "execution_count": 108,
   "metadata": {},
   "outputs": [
    {
     "name": "stdout",
     "output_type": "stream",
     "text": [
      "0.8388826082199774\n"
     ]
    }
   ],
   "source": [
    "# The accuracy\n",
    "y_pred = rfc.predict(X_test_cv1)\n",
    "print(accuracy_score(y_test, y_pred))"
   ]
  },
  {
   "cell_type": "code",
   "execution_count": 109,
   "metadata": {},
   "outputs": [
    {
     "name": "stdout",
     "output_type": "stream",
     "text": [
      "(27421,)\n"
     ]
    },
    {
     "data": {
      "text/plain": [
       "23003"
      ]
     },
     "execution_count": 109,
     "metadata": {},
     "output_type": "execute_result"
    }
   ],
   "source": [
    "print(y_pred.shape)\n",
    "accuracy_score(y_test, y_pred, normalize=False)"
   ]
  },
  {
   "cell_type": "code",
   "execution_count": 110,
   "metadata": {},
   "outputs": [
    {
     "data": {
      "text/plain": [
       "0.8388826082199774"
      ]
     },
     "execution_count": 110,
     "metadata": {},
     "output_type": "execute_result"
    }
   ],
   "source": [
    "rfc.score(X_test_cv1, y_test)"
   ]
  },
  {
   "cell_type": "code",
   "execution_count": 112,
   "metadata": {},
   "outputs": [],
   "source": [
    "nb = MultinomialNB()"
   ]
  },
  {
   "cell_type": "code",
   "execution_count": 113,
   "metadata": {},
   "outputs": [
    {
     "data": {
      "text/plain": [
       "0.7846540972247548"
      ]
     },
     "execution_count": 113,
     "metadata": {},
     "output_type": "execute_result"
    }
   ],
   "source": [
    "nb.fit(X_train_cv1, y_train)\n",
    "nb.score(X_test_cv1, y_test)"
   ]
  },
  {
   "cell_type": "code",
   "execution_count": 127,
   "metadata": {},
   "outputs": [],
   "source": [
    "np.set_printoptions(threshold=1000)\n",
    "#np.set_printoptions(threshold=np.inf)"
   ]
  },
  {
   "cell_type": "code",
   "execution_count": 128,
   "metadata": {},
   "outputs": [
    {
     "data": {
      "text/plain": [
       "array([[12,  0,  1, ...,  0,  0,  0],\n",
       "       [ 0, 41,  4, ...,  0,  0,  0],\n",
       "       [ 0,  2, 67, ...,  0,  0,  0],\n",
       "       ...,\n",
       "       [ 0,  0,  0, ..., 45,  0,  0],\n",
       "       [ 0,  0,  0, ...,  0, 17,  3],\n",
       "       [ 0,  0,  0, ...,  0,  3,  8]])"
      ]
     },
     "execution_count": 128,
     "metadata": {},
     "output_type": "execute_result"
    }
   ],
   "source": [
    "confusion_matrix(y_pred, y_test)"
   ]
  },
  {
   "cell_type": "code",
   "execution_count": 129,
   "metadata": {},
   "outputs": [],
   "source": [
    "with open('cv1.pickle', 'wb') as f:\n",
    "    pickle.dump(cv1, f, pickle.HIGHEST_PROTOCOL)"
   ]
  },
  {
   "cell_type": "code",
   "execution_count": 131,
   "metadata": {},
   "outputs": [],
   "source": [
    "with open('nb.pickle', 'wb') as f:\n",
    "    pickle.dump(nb, f, pickle.HIGHEST_PROTOCOL)"
   ]
  },
  {
   "cell_type": "code",
   "execution_count": 132,
   "metadata": {},
   "outputs": [],
   "source": [
    "with open('le.pickle', 'wb') as f:\n",
    "    pickle.dump(le, f, pickle.HIGHEST_PROTOCOL)"
   ]
  },
  {
   "cell_type": "code",
   "execution_count": null,
   "metadata": {},
   "outputs": [],
   "source": []
  }
 ],
 "metadata": {
  "kernelspec": {
   "display_name": "Python [conda root]",
   "language": "python",
   "name": "conda-root-py"
  },
  "language_info": {
   "codemirror_mode": {
    "name": "ipython",
    "version": 3
   },
   "file_extension": ".py",
   "mimetype": "text/x-python",
   "name": "python",
   "nbconvert_exporter": "python",
   "pygments_lexer": "ipython3",
   "version": "3.6.5"
  }
 },
 "nbformat": 4,
 "nbformat_minor": 2
}
