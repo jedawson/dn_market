{
 "cells": [
  {
   "cell_type": "code",
   "execution_count": 1,
   "metadata": {},
   "outputs": [],
   "source": [
    "import pandas as pd\n",
    "import numpy as np\n",
    "import pickle\n",
    "import re\n",
    "import string\n",
    "from sklearn.feature_extraction.text import CountVectorizer\n",
    "from sklearn.naive_bayes import MultinomialNB\n",
    "from sklearn import preprocessing\n",
    "import os\n",
    "from collections import Counter\n",
    "from fbprophet import Prophet"
   ]
  },
  {
   "cell_type": "code",
   "execution_count": 2,
   "metadata": {},
   "outputs": [],
   "source": [
    "import glob"
   ]
  },
  {
   "cell_type": "code",
   "execution_count": 3,
   "metadata": {},
   "outputs": [],
   "source": [
    "# count vectorizer\n",
    "with open('cv1.pickle', 'rb') as f:\n",
    "    cv1 = pickle.load(f)\n",
    "\n",
    "# naive bayes multinomial\n",
    "with open('nb.pickle', 'rb') as f:\n",
    "    nb = pickle.load(f)\n",
    "\n",
    "# label encoder\n",
    "with open('le.pickle', 'rb') as f:\n",
    "    le = pickle.load(f)"
   ]
  },
  {
   "cell_type": "code",
   "execution_count": 143,
   "metadata": {},
   "outputs": [],
   "source": [
    "def convert_si(si_unit):\n",
    "    data = {'mg':1e-3, 'g': 1., 'oz': 28.35, 'ml': 1e-3, \n",
    "            'lb': 453.59, 'pound': 453.59,\n",
    "            'mcg': 1e-6, 'ounce': 28.35, 'kg': 1e3, 'liter': 1e3, 'litre': 1e3}\n",
    "    return data[si_unit]\n",
    "\n",
    "def convert_csv_to_prophet(file_path):\n",
    "    #read csv\n",
    "    silk_road_df = pd.read_csv(\n",
    "        file_path, \n",
    "        memory_map=True,\n",
    "        usecols=['price', 'name', 'add_time'],\n",
    "        dtype={'price':'float64', 'name':'object', 'add_time':'int64'},\n",
    "        keep_default_na=False\n",
    "    )\n",
    "    #text preprocessing\n",
    "    alphanumeric = lambda x: re.sub(r'\\w*\\d\\w*', ' ', x)\n",
    "    punc_lower = lambda x: re.sub(r'[%s]' % re.escape(string.punctuation), ' ', x.lower())\n",
    "    \n",
    "    # preprocess text and transform with count vectorizer and predict category\n",
    "    predicted_categories_dev = nb.predict(cv1.transform(silk_road_df.name.map(alphanumeric).map(punc_lower)))\n",
    "    # filter only the drugs/prescription category\n",
    "    #silk_road_df = silk_road_df[predicted_categories_dev==50]\n",
    "    # get the quantity, weight, and si unit\n",
    "    size_of_items = silk_road_df.name.str.lower().str.extract(\n",
    "        r'(?P<quantity>\\d*)\\s(?P<weight>\\d*\\.?\\d+)\\s?(?P<si_unit>kg|g|mg|mcg|oz|ounce|ounces|lb|pound|ml|mcl|liter|litre)')\n",
    "    # price divided by the quantity of multiplying quantity, weight, and si unit converted to grams\n",
    "    adj_price = silk_road_df.iloc[size_of_items.dropna().index].price / \\\n",
    "        (size_of_items.dropna().quantity.apply(lambda x: 1 if x=='' else int(x)) \\\n",
    "        * size_of_items.dropna().weight.apply(float) * size_of_items.dropna().si_unit.apply(convert_si))\n",
    "    # convert to format for prophet\n",
    "    df_price_time = pd.DataFrame({'adj_price': adj_price, \n",
    "                                  'add_time': silk_road_df.iloc[size_of_items.dropna().index].add_time,\n",
    "                                  'category': predicted_categories_dev[size_of_items.dropna().index]\n",
    "                                 })\n",
    "    prophet_transformed = df_price_time[df_price_time['category']==50][['add_time', 'adj_price']]\\\n",
    "        .transform({'add_time': pd.Timestamp.fromtimestamp, 'adj_price': lambda x: x})\\\n",
    "        .rename(columns={'add_time': 'ds', 'adj_price': 'y'})\n",
    "    quantiles = prophet_transformed.y.quantile([.0001, .95])\n",
    "    prophet_transformed = prophet_transformed[\n",
    "        (prophet_transformed.y > quantiles.iloc[0]) & (prophet_transformed.y < quantiles.iloc[1])\n",
    "        ].replace([np.inf, -np.inf], np.nan)\n",
    "    prophet_transformed.to_csv(file_path.replace('dnmarchives_rsync_expanded/grams', 'prophet'))\n",
    "    "
   ]
  },
  {
   "cell_type": "code",
   "execution_count": 141,
   "metadata": {},
   "outputs": [],
   "source": [
    "convert_csv_to_prophet(\n",
    "    '/Volumes/SeagateBlue/ds_data/dark_net_market/dnmarchives_rsync_expanded/grams/2014-06-09/SilkRoad.csv')"
   ]
  },
  {
   "cell_type": "code",
   "execution_count": 129,
   "metadata": {},
   "outputs": [],
   "source": [
    "grams_csv = glob.glob('/Volumes/SeagateBlue/ds_data/dark_net_market/dnmarchives_rsync_expanded/grams/*/*.csv')"
   ]
  },
  {
   "cell_type": "code",
   "execution_count": 144,
   "metadata": {},
   "outputs": [
    {
     "name": "stderr",
     "output_type": "stream",
     "text": [
      "/Users/jonathandawson/anaconda3/lib/python3.6/site-packages/numpy/lib/function_base.py:3768: RuntimeWarning: invalid value encountered in multiply\n",
      "  x2 = take(ap, indices_above, axis=axis) * weights_above\n"
     ]
    }
   ],
   "source": [
    "for file_name in grams_csv:\n",
    "    convert_csv_to_prophet(file_name)"
   ]
  },
  {
   "cell_type": "code",
   "execution_count": 3,
   "metadata": {},
   "outputs": [],
   "source": [
    "prophet_csv = glob.glob('/Volumes/SeagateBlue/ds_data/dark_net_market/prophet/*/*.csv')"
   ]
  },
  {
   "cell_type": "code",
   "execution_count": 4,
   "metadata": {},
   "outputs": [
    {
     "data": {
      "text/plain": [
       "1865"
      ]
     },
     "execution_count": 4,
     "metadata": {},
     "output_type": "execute_result"
    }
   ],
   "source": [
    "len(prophet_csv)"
   ]
  },
  {
   "cell_type": "code",
   "execution_count": 20,
   "metadata": {},
   "outputs": [],
   "source": [
    "fb_prophet = Prophet()"
   ]
  },
  {
   "cell_type": "code",
   "execution_count": 6,
   "metadata": {},
   "outputs": [],
   "source": [
    "prophet_df = pd.concat([pd.read_csv(f, memory_map=True) for f in prophet_csv], ignore_index=True)"
   ]
  },
  {
   "cell_type": "code",
   "execution_count": 13,
   "metadata": {},
   "outputs": [],
   "source": [
    "prophet_df = prophet_df.sample(10000)"
   ]
  },
  {
   "cell_type": "code",
   "execution_count": 19,
   "metadata": {},
   "outputs": [],
   "source": [
    "quantiles = prophet_df.y.quantile([.0001, .95])\n",
    "prophet_df = prophet_df[\n",
    "        (prophet_df.y > quantiles.iloc[0]) & (prophet_df.y < quantiles.iloc[1])\n",
    "        ]"
   ]
  },
  {
   "cell_type": "code",
   "execution_count": 21,
   "metadata": {},
   "outputs": [
    {
     "name": "stderr",
     "output_type": "stream",
     "text": [
      "INFO:fbprophet.forecaster:Disabling yearly seasonality. Run prophet with yearly_seasonality=True to override this.\n",
      "/Users/jonathandawson/anaconda3/lib/python3.6/site-packages/pystan/misc.py:399: FutureWarning: Conversion of the second argument of issubdtype from `float` to `np.floating` is deprecated. In future, it will be treated as `np.float64 == np.dtype(float).type`.\n",
      "  elif np.issubdtype(np.asarray(v).dtype, float):\n"
     ]
    },
    {
     "data": {
      "text/plain": [
       "<fbprophet.forecaster.Prophet at 0x1a178e5c88>"
      ]
     },
     "execution_count": 21,
     "metadata": {},
     "output_type": "execute_result"
    }
   ],
   "source": [
    "fb_prophet.fit(prophet_df[['ds','y']])"
   ]
  },
  {
   "cell_type": "code",
   "execution_count": 22,
   "metadata": {},
   "outputs": [
    {
     "data": {
      "text/html": [
       "<div>\n",
       "<style scoped>\n",
       "    .dataframe tbody tr th:only-of-type {\n",
       "        vertical-align: middle;\n",
       "    }\n",
       "\n",
       "    .dataframe tbody tr th {\n",
       "        vertical-align: top;\n",
       "    }\n",
       "\n",
       "    .dataframe thead th {\n",
       "        text-align: right;\n",
       "    }\n",
       "</style>\n",
       "<table border=\"1\" class=\"dataframe\">\n",
       "  <thead>\n",
       "    <tr style=\"text-align: right;\">\n",
       "      <th></th>\n",
       "      <th>ds</th>\n",
       "    </tr>\n",
       "  </thead>\n",
       "  <tbody>\n",
       "    <tr>\n",
       "      <th>9524</th>\n",
       "      <td>2015-08-05 04:58:11</td>\n",
       "    </tr>\n",
       "    <tr>\n",
       "      <th>9525</th>\n",
       "      <td>2015-08-06 04:58:11</td>\n",
       "    </tr>\n",
       "    <tr>\n",
       "      <th>9526</th>\n",
       "      <td>2015-08-07 04:58:11</td>\n",
       "    </tr>\n",
       "    <tr>\n",
       "      <th>9527</th>\n",
       "      <td>2015-08-08 04:58:11</td>\n",
       "    </tr>\n",
       "    <tr>\n",
       "      <th>9528</th>\n",
       "      <td>2015-08-09 04:58:11</td>\n",
       "    </tr>\n",
       "  </tbody>\n",
       "</table>\n",
       "</div>"
      ],
      "text/plain": [
       "                      ds\n",
       "9524 2015-08-05 04:58:11\n",
       "9525 2015-08-06 04:58:11\n",
       "9526 2015-08-07 04:58:11\n",
       "9527 2015-08-08 04:58:11\n",
       "9528 2015-08-09 04:58:11"
      ]
     },
     "execution_count": 22,
     "metadata": {},
     "output_type": "execute_result"
    }
   ],
   "source": [
    "future = fb_prophet.make_future_dataframe(periods=30)\n",
    "future.tail()"
   ]
  },
  {
   "cell_type": "code",
   "execution_count": 23,
   "metadata": {},
   "outputs": [
    {
     "data": {
      "text/html": [
       "<div>\n",
       "<style scoped>\n",
       "    .dataframe tbody tr th:only-of-type {\n",
       "        vertical-align: middle;\n",
       "    }\n",
       "\n",
       "    .dataframe tbody tr th {\n",
       "        vertical-align: top;\n",
       "    }\n",
       "\n",
       "    .dataframe thead th {\n",
       "        text-align: right;\n",
       "    }\n",
       "</style>\n",
       "<table border=\"1\" class=\"dataframe\">\n",
       "  <thead>\n",
       "    <tr style=\"text-align: right;\">\n",
       "      <th></th>\n",
       "      <th>ds</th>\n",
       "      <th>yhat</th>\n",
       "      <th>yhat_lower</th>\n",
       "      <th>yhat_upper</th>\n",
       "    </tr>\n",
       "  </thead>\n",
       "  <tbody>\n",
       "    <tr>\n",
       "      <th>9524</th>\n",
       "      <td>2015-08-05 04:58:11</td>\n",
       "      <td>25.635981</td>\n",
       "      <td>-22.915647</td>\n",
       "      <td>72.534205</td>\n",
       "    </tr>\n",
       "    <tr>\n",
       "      <th>9525</th>\n",
       "      <td>2015-08-06 04:58:11</td>\n",
       "      <td>26.797095</td>\n",
       "      <td>-20.947046</td>\n",
       "      <td>75.342194</td>\n",
       "    </tr>\n",
       "    <tr>\n",
       "      <th>9526</th>\n",
       "      <td>2015-08-07 04:58:11</td>\n",
       "      <td>24.905163</td>\n",
       "      <td>-22.787554</td>\n",
       "      <td>72.120251</td>\n",
       "    </tr>\n",
       "    <tr>\n",
       "      <th>9527</th>\n",
       "      <td>2015-08-08 04:58:11</td>\n",
       "      <td>26.107579</td>\n",
       "      <td>-18.431547</td>\n",
       "      <td>73.207308</td>\n",
       "    </tr>\n",
       "    <tr>\n",
       "      <th>9528</th>\n",
       "      <td>2015-08-09 04:58:11</td>\n",
       "      <td>26.295046</td>\n",
       "      <td>-21.587686</td>\n",
       "      <td>71.280805</td>\n",
       "    </tr>\n",
       "  </tbody>\n",
       "</table>\n",
       "</div>"
      ],
      "text/plain": [
       "                      ds       yhat  yhat_lower  yhat_upper\n",
       "9524 2015-08-05 04:58:11  25.635981  -22.915647   72.534205\n",
       "9525 2015-08-06 04:58:11  26.797095  -20.947046   75.342194\n",
       "9526 2015-08-07 04:58:11  24.905163  -22.787554   72.120251\n",
       "9527 2015-08-08 04:58:11  26.107579  -18.431547   73.207308\n",
       "9528 2015-08-09 04:58:11  26.295046  -21.587686   71.280805"
      ]
     },
     "execution_count": 23,
     "metadata": {},
     "output_type": "execute_result"
    }
   ],
   "source": [
    "forecast = fb_prophet.predict(future)\n",
    "forecast[['ds', 'yhat', 'yhat_lower', 'yhat_upper']].tail()"
   ]
  },
  {
   "cell_type": "code",
   "execution_count": 24,
   "metadata": {},
   "outputs": [
    {
     "data": {
      "image/png": "[encoded data removed]",
      "text/plain": [
       "<Figure size 720x432 with 1 Axes>"
      ]
     },
     "metadata": {},
     "output_type": "display_data"
    }
   ],
   "source": [
    "fig1 = fb_prophet.plot(forecast)\n"
   ]
  },
  {
   "cell_type": "code",
   "execution_count": 25,
   "metadata": {},
   "outputs": [
    {
     "data": {
      "image/png": "[encoded data removed]",
      "text/plain": [
       "<Figure size 648x648 with 3 Axes>"
      ]
     },
     "metadata": {},
     "output_type": "display_data"
    }
   ],
   "source": [
    "fig = fb_prophet.plot_components(forecast)"
   ]
  },
  {
   "cell_type": "code",
   "execution_count": 91,
   "metadata": {},
   "outputs": [],
   "source": [
    "# for x in os.listdir('/Volumes/SeagateBlue/ds_data/dark_net_market/dnmarchives_rsync_expanded/grams/')[1:]:\n",
    "#     os.mkdir('/Volumes/SeagateBlue/ds_data/dark_net_market/prophet/'+x)"
   ]
  },
  {
   "cell_type": "code",
   "execution_count": null,
   "metadata": {},
   "outputs": [],
   "source": []
  },
  {
   "cell_type": "code",
   "execution_count": 76,
   "metadata": {},
   "outputs": [],
   "source": [
    "silk_road_df = pd.read_csv(\n",
    "    '/Volumes/SeagateBlue/ds_data/dark_net_market/dnmarchives_rsync_expanded/grams/2014-06-09/SilkRoad.csv', \n",
    "    memory_map=True,\n",
    "    usecols=['price', 'name', 'add_time'],\n",
    "    dtype={'price':'float64', 'name':'object', 'add_time':'int64'})"
   ]
  },
  {
   "cell_type": "code",
   "execution_count": 77,
   "metadata": {},
   "outputs": [
    {
     "data": {
      "text/plain": [
       "price       float64\n",
       "name         object\n",
       "add_time      int64\n",
       "dtype: object"
      ]
     },
     "execution_count": 77,
     "metadata": {},
     "output_type": "execute_result"
    }
   ],
   "source": [
    "silk_road_df.dtypes"
   ]
  },
  {
   "cell_type": "code",
   "execution_count": 16,
   "metadata": {},
   "outputs": [
    {
     "data": {
      "text/plain": [
       "'1.33 MB'"
      ]
     },
     "execution_count": 16,
     "metadata": {},
     "output_type": "execute_result"
    }
   ],
   "source": [
    "\"{:03.2f} MB\".format(silk_road_df.memory_usage(deep=True).sum() / 1024 ** 2)"
   ]
  },
  {
   "cell_type": "code",
   "execution_count": 7,
   "metadata": {},
   "outputs": [
    {
     "data": {
      "text/plain": [
       "sklearn.naive_bayes.MultinomialNB"
      ]
     },
     "execution_count": 7,
     "metadata": {},
     "output_type": "execute_result"
    }
   ],
   "source": [
    "type(nb)"
   ]
  },
  {
   "cell_type": "code",
   "execution_count": 17,
   "metadata": {},
   "outputs": [
    {
     "data": {
      "text/plain": [
       "(12648,)"
      ]
     },
     "execution_count": 17,
     "metadata": {},
     "output_type": "execute_result"
    }
   ],
   "source": [
    "silk_road_df.name.shape"
   ]
  },
  {
   "cell_type": "code",
   "execution_count": 18,
   "metadata": {},
   "outputs": [
    {
     "data": {
      "text/plain": [
       "0"
      ]
     },
     "execution_count": 18,
     "metadata": {},
     "output_type": "execute_result"
    }
   ],
   "source": [
    "silk_road_df.name.isna().sum()"
   ]
  },
  {
   "cell_type": "code",
   "execution_count": 78,
   "metadata": {},
   "outputs": [],
   "source": [
    "# text preprocessing\n",
    "alphanumeric = lambda x: re.sub(r'\\w*\\d\\w*', ' ', x)\n",
    "punc_lower = lambda x: re.sub(r'[%s]' % re.escape(string.punctuation), ' ', x.lower())"
   ]
  },
  {
   "cell_type": "code",
   "execution_count": 79,
   "metadata": {},
   "outputs": [],
   "source": [
    "# preprocess text and transform with count vectorizer\n",
    "silkroad_names_cv = cv1.transform(silk_road_df.name.map(alphanumeric).map(punc_lower))"
   ]
  },
  {
   "cell_type": "code",
   "execution_count": 80,
   "metadata": {},
   "outputs": [
    {
     "data": {
      "text/plain": [
       "(12648, 15506)"
      ]
     },
     "execution_count": 80,
     "metadata": {},
     "output_type": "execute_result"
    }
   ],
   "source": [
    "silkroad_names_cv.shape"
   ]
  },
  {
   "cell_type": "code",
   "execution_count": 81,
   "metadata": {},
   "outputs": [],
   "source": [
    "predicted_categories = nb.predict(silkroad_names_cv)"
   ]
  },
  {
   "cell_type": "code",
   "execution_count": 25,
   "metadata": {},
   "outputs": [],
   "source": [
    "predicted_categories_dev = nb.predict(cv1.transform(silk_road_df.name.map(alphanumeric).map(punc_lower)))"
   ]
  },
  {
   "cell_type": "code",
   "execution_count": 12,
   "metadata": {},
   "outputs": [
    {
     "data": {
      "text/plain": [
       "(array([  1,   2,   4,   5,   6,   7,   8,   9,  10,  15,  16,  17,  18,\n",
       "         20,  21,  22,  23,  24,  26,  27,  28,  29,  30,  31,  34,  35,\n",
       "         36,  37,  38,  39,  42,  43,  45,  47,  48,  49,  50,  51,  52,\n",
       "         53,  54,  55,  56,  57,  58,  60,  62,  63,  64,  66,  67,  68,\n",
       "         70,  73,  74,  78,  79,  80,  81,  82,  86,  88,  89,  90,  91,\n",
       "         92,  93,  94,  95,  98, 101, 102]),\n",
       " array([  28,   60,    2,  283,  215,   57,   44,    2,    7,    8,   36,\n",
       "           1,    5,  784,  219,   54,  449,   18,  183, 1673,   10,   31,\n",
       "          79,   14,    7,  870,   73,  721,   45,   13,   71,  133,    4,\n",
       "           1,   84,   13, 1393,   21,   30,   96,  373,   13,   78,  166,\n",
       "           3,    7,  499,  636,  655,  171,   73,  234,   70,   73,   33,\n",
       "          20,    1,    6,   15,   43,    3,  266,  364,   88,  159,   65,\n",
       "          30,  380,   29,  255,    1,    2]))"
      ]
     },
     "execution_count": 12,
     "metadata": {},
     "output_type": "execute_result"
    }
   ],
   "source": [
    "np.unique(predicted_categories, return_counts=True)"
   ]
  },
  {
   "cell_type": "code",
   "execution_count": 60,
   "metadata": {},
   "outputs": [
    {
     "data": {
      "text/plain": [
       "array(['Armodafinil 150mg x 60 tabs ships Globally walkalert',\n",
       "       '10 X Armodafinil 150mg New verison of Modafinil Blister pack',\n",
       "       'Uk Domestic Propecia Finesteride 1 mg centurian labs 180 tabs',\n",
       "       'MODAFINIL MODALERT 200mg 1000 TABLETS SEALED BLISTER PACKS speed tabs',\n",
       "       'Anastrozole Generic Arimidex 1mg tab 28tabs box'], dtype=object)"
      ]
     },
     "execution_count": 60,
     "metadata": {},
     "output_type": "execute_result"
    }
   ],
   "source": [
    "silk_road_df[predicted_categories_dev==50].sample(5).name.values"
   ]
  },
  {
   "cell_type": "code",
   "execution_count": 31,
   "metadata": {},
   "outputs": [
    {
     "data": {
      "text/plain": [
       "'1x 1.5mg Blue Dream alprazolam Xanax tablets NICE'"
      ]
     },
     "execution_count": 31,
     "metadata": {},
     "output_type": "execute_result"
    }
   ],
   "source": [
    "# these next three cells show an example of what category the classifier chooses based on the name\n",
    "silk_road_df.iloc[7230]['name']"
   ]
  },
  {
   "cell_type": "code",
   "execution_count": 58,
   "metadata": {},
   "outputs": [
    {
     "data": {
      "text/plain": [
       "20"
      ]
     },
     "execution_count": 58,
     "metadata": {},
     "output_type": "execute_result"
    }
   ],
   "source": [
    "predicted_categories[7230]"
   ]
  },
  {
   "cell_type": "code",
   "execution_count": 60,
   "metadata": {},
   "outputs": [
    {
     "data": {
      "text/plain": [
       "array(['Drugs/Benzos'], dtype=object)"
      ]
     },
     "execution_count": 60,
     "metadata": {},
     "output_type": "execute_result"
    }
   ],
   "source": [
    "le.inverse_transform([20])"
   ]
  },
  {
   "cell_type": "code",
   "execution_count": 61,
   "metadata": {},
   "outputs": [
    {
     "data": {
      "text/plain": [
       "array(['Chemicals', 'Counterfeits/Accessories', 'Counterfeits/Clothing',\n",
       "       'Counterfeits/Electronics', 'Counterfeits/Money',\n",
       "       'Counterfeits/Watches', 'Data/Accounts', 'Data/Pirated',\n",
       "       'Data/Software', 'Drug paraphernalia/Containers',\n",
       "       'Drug paraphernalia/Grinders',\n",
       "       'Drug paraphernalia/Injecting equipment/Filters',\n",
       "       'Drug paraphernalia/Injecting equipment/Needles',\n",
       "       'Drug paraphernalia/Injecting equipment/Other',\n",
       "       'Drug paraphernalia/Injecting equipment/Syringes',\n",
       "       'Drug paraphernalia/Paper', 'Drug paraphernalia/Pipes',\n",
       "       'Drug paraphernalia/Scales', 'Drug paraphernalia/Stashes',\n",
       "       'Drugs/Barbiturates', 'Drugs/Benzos',\n",
       "       'Drugs/Cannabis/Concentrates', 'Drugs/Cannabis/Edibles',\n",
       "       'Drugs/Cannabis/Hash', 'Drugs/Cannabis/Seeds',\n",
       "       'Drugs/Cannabis/Shake/trim', 'Drugs/Cannabis/Synthetics',\n",
       "       'Drugs/Cannabis/Weed', 'Drugs/Dissociatives/GBL',\n",
       "       'Drugs/Dissociatives/GHB', 'Drugs/Dissociatives/Ketamine',\n",
       "       'Drugs/Dissociatives/MXE', 'Drugs/Dissociatives/Other',\n",
       "       'Drugs/Dissociatives/PCP', 'Drugs/Ecstasy/MDA',\n",
       "       'Drugs/Ecstasy/MDMA', 'Drugs/Ecstasy/Other', 'Drugs/Ecstasy/Pills',\n",
       "       'Drugs/Opioids', 'Drugs/Opioids/Buprenorphine',\n",
       "       'Drugs/Opioids/Codeine', 'Drugs/Opioids/Dihydrocodeine',\n",
       "       'Drugs/Opioids/Fentanyl', 'Drugs/Opioids/Heroin',\n",
       "       'Drugs/Opioids/Hydrocodone', 'Drugs/Opioids/Morphine',\n",
       "       'Drugs/Opioids/Opium', 'Drugs/Opioids/Other',\n",
       "       'Drugs/Opioids/Oxycodone', 'Drugs/Other', 'Drugs/Prescription',\n",
       "       'Drugs/Psychedelics/2C', 'Drugs/Psychedelics/5-MeO',\n",
       "       'Drugs/Psychedelics/DMT', 'Drugs/Psychedelics/LSD',\n",
       "       'Drugs/Psychedelics/Mescaline', 'Drugs/Psychedelics/Mushrooms',\n",
       "       'Drugs/Psychedelics/NB', 'Drugs/Psychedelics/Other',\n",
       "       'Drugs/Psychedelics/Others', 'Drugs/Psychedelics/Salvia',\n",
       "       'Drugs/Psychedelics/Spores', 'Drugs/RCs', 'Drugs/Steroids',\n",
       "       'Drugs/Stimulants/Cocaine', 'Drugs/Stimulants/Mephedrone',\n",
       "       'Drugs/Stimulants/Meth', 'Drugs/Stimulants/Prescription',\n",
       "       'Drugs/Stimulants/Speed', 'Drugs/Weight loss', 'Electronics',\n",
       "       'Forgeries', 'Forgeries/Other', 'Forgeries/Physical documents',\n",
       "       'Forgeries/Scans/Photos', 'Info/eBooks/Aliens/UFOs',\n",
       "       'Info/eBooks/Anonymity', 'Info/eBooks/Doomsday',\n",
       "       'Info/eBooks/Drugs', 'Info/eBooks/Economy', 'Info/eBooks/IT',\n",
       "       'Info/eBooks/Making money', 'Info/eBooks/Other',\n",
       "       'Info/eBooks/Philosophy', 'Info/eBooks/Politics',\n",
       "       'Info/eBooks/Psychology', 'Info/eBooks/Relationships/Sex',\n",
       "       'Info/eBooks/Science', 'Information/Guides', 'Information/eBooks',\n",
       "       'Jewelry', 'Other', 'Services/Advertising', 'Services/Hacking',\n",
       "       'Services/Money', 'Services/Other', 'Services/Travel',\n",
       "       'Tobacco/Paraphernalia', 'Tobacco/Smoked', 'Weapons/Ammunition',\n",
       "       'Weapons/Fireworks', 'Weapons/Lethal firearms', 'Weapons/Melee',\n",
       "       'Weapons/Non-lethal firearms'], dtype=object)"
      ]
     },
     "execution_count": 61,
     "metadata": {},
     "output_type": "execute_result"
    }
   ],
   "source": [
    "le.classes_"
   ]
  },
  {
   "cell_type": "code",
   "execution_count": 56,
   "metadata": {},
   "outputs": [
    {
     "data": {
      "text/plain": [
       "array([69])"
      ]
     },
     "execution_count": 56,
     "metadata": {},
     "output_type": "execute_result"
    }
   ],
   "source": [
    "le.transform(['Drugs/Weight loss'])"
   ]
  },
  {
   "cell_type": "code",
   "execution_count": 82,
   "metadata": {},
   "outputs": [
    {
     "data": {
      "text/plain": [
       "(4868, 3)"
      ]
     },
     "execution_count": 82,
     "metadata": {},
     "output_type": "execute_result"
    }
   ],
   "source": [
    "size_of_items = silk_road_df.name.str.lower().str.extract(\n",
    "    r'(?P<quantity>\\d*)\\s(?P<weight>\\d*\\.?\\d+)\\s?(?P<si_unit>kg|g|mg|mcg|oz|ounce|ounces|lb|pound|ml|mcl|liter|litre)')\n",
    "size_of_items.dropna().shape"
   ]
  },
  {
   "cell_type": "code",
   "execution_count": 239,
   "metadata": {},
   "outputs": [
    {
     "data": {
      "text/plain": [
       "6        200\n",
       "7        200\n",
       "8        200\n",
       "9         18\n",
       "10       200\n",
       "11        18\n",
       "12       200\n",
       "13        18\n",
       "14        18\n",
       "16       200\n",
       "17       200\n",
       "25         1\n",
       "27         1\n",
       "28         1\n",
       "29         1\n",
       "30         1\n",
       "31         1\n",
       "32         1\n",
       "33         1\n",
       "34         1\n",
       "35         1\n",
       "36         1\n",
       "37         1\n",
       "38         1\n",
       "39         1\n",
       "40         1\n",
       "41         1\n",
       "42         1\n",
       "43         1\n",
       "45         1\n",
       "        ... \n",
       "12551    200\n",
       "12552    200\n",
       "12554    200\n",
       "12561    200\n",
       "12562    200\n",
       "12565    200\n",
       "12566    200\n",
       "12567    200\n",
       "12569    200\n",
       "12572    200\n",
       "12573    200\n",
       "12574    200\n",
       "12575    200\n",
       "12576    200\n",
       "12577    200\n",
       "12578    200\n",
       "12580    200\n",
       "12581    200\n",
       "12586      5\n",
       "12588      1\n",
       "12589      1\n",
       "12593     10\n",
       "12598      5\n",
       "12601      5\n",
       "12603      1\n",
       "12604      1\n",
       "12605      1\n",
       "12606     56\n",
       "12616      1\n",
       "12627      1\n",
       "Name: quantity, Length: 4868, dtype: int64"
      ]
     },
     "execution_count": 239,
     "metadata": {},
     "output_type": "execute_result"
    }
   ],
   "source": [
    "size_of_items.dropna().quantity.apply(lambda x: 1 if x=='' else int(x))"
   ]
  },
  {
   "cell_type": "code",
   "execution_count": 228,
   "metadata": {},
   "outputs": [],
   "source": [
    "def convert_si(si_unit):\n",
    "    data = {'mg':1e-3, 'g': 1., 'oz': 28.35, 'ml': 1e-3, \n",
    "            'lb': 453.59, 'pound': 453.59,\n",
    "            'mcg': 1e-6, 'ounce': 28.35, 'kg': 1e3, 'liter': 1e3}\n",
    "    return data[si_unit]"
   ]
  },
  {
   "cell_type": "code",
   "execution_count": 84,
   "metadata": {},
   "outputs": [
    {
     "data": {
      "text/plain": [
       "price       float64\n",
       "name         object\n",
       "add_time      int64\n",
       "dtype: object"
      ]
     },
     "execution_count": 84,
     "metadata": {},
     "output_type": "execute_result"
    }
   ],
   "source": [
    "silk_road_df.dtypes"
   ]
  },
  {
   "cell_type": "code",
   "execution_count": 83,
   "metadata": {},
   "outputs": [
    {
     "data": {
      "text/plain": [
       "(4868, 3)"
      ]
     },
     "execution_count": 83,
     "metadata": {},
     "output_type": "execute_result"
    }
   ],
   "source": [
    "# price divided by the quantity of multiplying quantity, weight, and si unit converted to grams\n",
    "adj_price = silk_road_df.iloc[size_of_items.dropna().index].price / \\\n",
    "    (size_of_items.dropna().quantity.apply(lambda x: 1 if x=='' else int(x)) \\\n",
    "    * size_of_items.dropna().weight.apply(float) * size_of_items.dropna().si_unit.apply(convert_si))\n",
    "# return the dataframe of the adj price, category, and add_time\n",
    "pd.DataFrame({'adj_price': adj_price,\n",
    "              'category': predicted_categories[size_of_items.dropna().index],\n",
    "              'add_time': silk_road_df.iloc[size_of_items.dropna().index].add_time\n",
    "             }\n",
    "            ).shape"
   ]
  },
  {
   "cell_type": "code",
   "execution_count": 268,
   "metadata": {},
   "outputs": [
    {
     "data": {
      "text/plain": [
       "(4868,)"
      ]
     },
     "execution_count": 268,
     "metadata": {},
     "output_type": "execute_result"
    }
   ],
   "source": [
    "adj_price.shape"
   ]
  },
  {
   "cell_type": "code",
   "execution_count": null,
   "metadata": {},
   "outputs": [],
   "source": []
  },
  {
   "cell_type": "code",
   "execution_count": 73,
   "metadata": {},
   "outputs": [
    {
     "data": {
      "text/plain": [
       "array(['Extra shipping for custom order', '220 FE Only TW X MB',\n",
       "       'BUY BITCOINS WITH NETSPEND RELOAD',\n",
       "       'BUY BITCOINS WITH MONEYGRAM OR WESTERN UNION',\n",
       "       '1000mg 2C B HCl pure', '1 gram MDMA crystals 83 pure',\n",
       "       '1x Bugatti 200 220mg MDMA', '1x Blue Android 200 220mg MDMA',\n",
       "       '3x Blue Androids 200 220mg MDMA', '10x 18 20mg 2C B HCl caps',\n",
       "       '5x Blue Androids 200 220mg MDMA', '5x 18 20mg 2C B HCl caps',\n",
       "       '25x Blue Androids 200 220mg MDMA', '3x 18 20mg 2C B HCl caps',\n",
       "       '1x 18 20mg 2C B HCl caps', '5 grams MDMA crystals 83 pure',\n",
       "       '25x Bugattis 200 220mg MDMA', '3x Bugattis 200 220mg MDMA',\n",
       "       '3 grams MDMA crystals 83 pure', '20gr Pure MDMA Crystals 84',\n",
       "       '10gr Pure MDMA Crystals 84', 'Mollies in capsules pure MDMA',\n",
       "       '1 oz of Crystal Meth', 'Half Gram of Crystal Meth',\n",
       "       '1.75 grams of Crystal Meth', 'Ball of Crystal Meth 3.5grams',\n",
       "       '1 gram of Crystal Meth', '1 4 oz of Crystal Meth',\n",
       "       'SCIROXX Primodex 100 Methenolone Enantahte 10ml USA ONLY',\n",
       "       'MARCH PHARMA DANABOL DBOL 500tabs 10mg AUS ONLY'], dtype=object)"
      ]
     },
     "execution_count": 73,
     "metadata": {},
     "output_type": "execute_result"
    }
   ],
   "source": [
    "silk_road_df.name.head(30).values"
   ]
  },
  {
   "cell_type": "code",
   "execution_count": 136,
   "metadata": {},
   "outputs": [
    {
     "data": {
      "text/html": [
       "<div>\n",
       "<style scoped>\n",
       "    .dataframe tbody tr th:only-of-type {\n",
       "        vertical-align: middle;\n",
       "    }\n",
       "\n",
       "    .dataframe tbody tr th {\n",
       "        vertical-align: top;\n",
       "    }\n",
       "\n",
       "    .dataframe thead th {\n",
       "        text-align: right;\n",
       "    }\n",
       "</style>\n",
       "<table border=\"1\" class=\"dataframe\">\n",
       "  <thead>\n",
       "    <tr style=\"text-align: right;\">\n",
       "      <th></th>\n",
       "      <th>hash</th>\n",
       "      <th>market_name</th>\n",
       "      <th>item_link</th>\n",
       "      <th>vendor_name</th>\n",
       "      <th>price</th>\n",
       "      <th>name</th>\n",
       "      <th>description</th>\n",
       "      <th>image_link</th>\n",
       "      <th>add_time</th>\n",
       "      <th>ship_from</th>\n",
       "      <th>Unnamed: 10</th>\n",
       "    </tr>\n",
       "  </thead>\n",
       "  <tbody>\n",
       "    <tr>\n",
       "      <th>0</th>\n",
       "      <td>2-2509</td>\n",
       "      <td>Silk Road 2</td>\n",
       "      <td>http://silkroad6ownowfk.onion/items/extra-ship...</td>\n",
       "      <td>$220for28grams</td>\n",
       "      <td>0.000017</td>\n",
       "      <td>Extra shipping for custom order</td>\n",
       "      <td>Extra Shipping for custom order. If you don t ...</td>\n",
       "      <td>NaN</td>\n",
       "      <td>1402306960</td>\n",
       "      <td>United States</td>\n",
       "      <td>NaN</td>\n",
       "    </tr>\n",
       "    <tr>\n",
       "      <th>1</th>\n",
       "      <td>2-11922</td>\n",
       "      <td>Silk Road 2</td>\n",
       "      <td>http://silkroad6ownowfk.onion/items/220-fe-onl...</td>\n",
       "      <td>$220for28grams</td>\n",
       "      <td>0.337382</td>\n",
       "      <td>220 FE Only TW X MB</td>\n",
       "      <td>1oz of the same tw x mb as my other listing FE...</td>\n",
       "      <td>NaN</td>\n",
       "      <td>1401874137</td>\n",
       "      <td>United States</td>\n",
       "      <td>NaN</td>\n",
       "    </tr>\n",
       "    <tr>\n",
       "      <th>2</th>\n",
       "      <td>2-30410</td>\n",
       "      <td>Silk Road 2</td>\n",
       "      <td>http://silkroad6ownowfk.onion/items/buy-bitcoi...</td>\n",
       "      <td>*REALDEAL*</td>\n",
       "      <td>0.000000</td>\n",
       "      <td>BUY BITCOINS WITH NETSPEND RELOAD</td>\n",
       "      <td>BUY BITCOINS WITH NETSPEND RELOAD LEAVE THE FO...</td>\n",
       "      <td>2-30410</td>\n",
       "      <td>1401864341</td>\n",
       "      <td>United States</td>\n",
       "      <td>NaN</td>\n",
       "    </tr>\n",
       "    <tr>\n",
       "      <th>3</th>\n",
       "      <td>2-38280</td>\n",
       "      <td>Silk Road 2</td>\n",
       "      <td>http://silkroad6ownowfk.onion/items/buy-bitcoi...</td>\n",
       "      <td>*REALDEAL*</td>\n",
       "      <td>0.000000</td>\n",
       "      <td>BUY BITCOINS WITH MONEYGRAM OR WESTERN UNION</td>\n",
       "      <td>DUE TO THE CRACK DOWN ON THE PREPAID CREDIT CA...</td>\n",
       "      <td>2-38280</td>\n",
       "      <td>1401887490</td>\n",
       "      <td>United States</td>\n",
       "      <td>NaN</td>\n",
       "    </tr>\n",
       "    <tr>\n",
       "      <th>4</th>\n",
       "      <td>2-6786</td>\n",
       "      <td>Silk Road 2</td>\n",
       "      <td>http://silkroad6ownowfk.onion/items/1000mg-2c-...</td>\n",
       "      <td>03welle</td>\n",
       "      <td>0.247126</td>\n",
       "      <td>1000mg 2C B HCl pure</td>\n",
       "      <td>The effects of 2C B are often described as a c...</td>\n",
       "      <td>2-6786</td>\n",
       "      <td>1402304534</td>\n",
       "      <td>Germany</td>\n",
       "      <td>NaN</td>\n",
       "    </tr>\n",
       "    <tr>\n",
       "      <th>5</th>\n",
       "      <td>2-33551</td>\n",
       "      <td>Silk Road 2</td>\n",
       "      <td>http://silkroad6ownowfk.onion/items/1-gram-mdm...</td>\n",
       "      <td>03welle</td>\n",
       "      <td>0.068507</td>\n",
       "      <td>1 gram MDMA crystals 83 pure</td>\n",
       "      <td>Usual doses of MDMA range from around 80 to 16...</td>\n",
       "      <td>2-33551</td>\n",
       "      <td>1401865121</td>\n",
       "      <td>Germany</td>\n",
       "      <td>NaN</td>\n",
       "    </tr>\n",
       "    <tr>\n",
       "      <th>6</th>\n",
       "      <td>2-37647</td>\n",
       "      <td>Silk Road 2</td>\n",
       "      <td>http://silkroad6ownowfk.onion/items/1x-bugatti...</td>\n",
       "      <td>03welle</td>\n",
       "      <td>0.016484</td>\n",
       "      <td>1x Bugatti 200 220mg MDMA</td>\n",
       "      <td>The successors of the popular Dominos Strong a...</td>\n",
       "      <td>2-37647</td>\n",
       "      <td>1401865065</td>\n",
       "      <td>Germany</td>\n",
       "      <td>NaN</td>\n",
       "    </tr>\n",
       "    <tr>\n",
       "      <th>7</th>\n",
       "      <td>2-37644</td>\n",
       "      <td>Silk Road 2</td>\n",
       "      <td>http://silkroad6ownowfk.onion/items/1x-blue-an...</td>\n",
       "      <td>03welle</td>\n",
       "      <td>0.016459</td>\n",
       "      <td>1x Blue Android 200 220mg MDMA</td>\n",
       "      <td>The successors of the Yellow Bitcoins Clean an...</td>\n",
       "      <td>2-37644</td>\n",
       "      <td>1401863523</td>\n",
       "      <td>Germany</td>\n",
       "      <td>NaN</td>\n",
       "    </tr>\n",
       "    <tr>\n",
       "      <th>8</th>\n",
       "      <td>2-37643</td>\n",
       "      <td>Silk Road 2</td>\n",
       "      <td>http://silkroad6ownowfk.onion/items/3x-blue-an...</td>\n",
       "      <td>03welle</td>\n",
       "      <td>0.046209</td>\n",
       "      <td>3x Blue Androids 200 220mg MDMA</td>\n",
       "      <td>The successors of the Yellow Bitcoins Clean an...</td>\n",
       "      <td>2-37643</td>\n",
       "      <td>1401862862</td>\n",
       "      <td>Germany</td>\n",
       "      <td>NaN</td>\n",
       "    </tr>\n",
       "    <tr>\n",
       "      <th>9</th>\n",
       "      <td>2-6271</td>\n",
       "      <td>Silk Road 2</td>\n",
       "      <td>http://silkroad6ownowfk.onion/items/10x-18-20m...</td>\n",
       "      <td>03welle</td>\n",
       "      <td>0.110308</td>\n",
       "      <td>10x 18 20mg 2C B HCl caps</td>\n",
       "      <td>Hey everyone we are thinking about broadening ...</td>\n",
       "      <td>2-6271</td>\n",
       "      <td>1401860893</td>\n",
       "      <td>Germany</td>\n",
       "      <td>NaN</td>\n",
       "    </tr>\n",
       "    <tr>\n",
       "      <th>10</th>\n",
       "      <td>2-37633</td>\n",
       "      <td>Silk Road 2</td>\n",
       "      <td>http://silkroad6ownowfk.onion/items/5x-blue-an...</td>\n",
       "      <td>03welle</td>\n",
       "      <td>0.072239</td>\n",
       "      <td>5x Blue Androids 200 220mg MDMA</td>\n",
       "      <td>The successors of the Yellow Bitcoins Clean an...</td>\n",
       "      <td>2-37633</td>\n",
       "      <td>1401860153</td>\n",
       "      <td>Germany</td>\n",
       "      <td>NaN</td>\n",
       "    </tr>\n",
       "    <tr>\n",
       "      <th>11</th>\n",
       "      <td>2-6270</td>\n",
       "      <td>Silk Road 2</td>\n",
       "      <td>http://silkroad6ownowfk.onion/items/5x-18-20mg...</td>\n",
       "      <td>03welle</td>\n",
       "      <td>0.059375</td>\n",
       "      <td>5x 18 20mg 2C B HCl caps</td>\n",
       "      <td>Hey everyone we are thinking about broadening ...</td>\n",
       "      <td>2-6270</td>\n",
       "      <td>1401859931</td>\n",
       "      <td>Germany</td>\n",
       "      <td>NaN</td>\n",
       "    </tr>\n",
       "    <tr>\n",
       "      <th>12</th>\n",
       "      <td>2-37646</td>\n",
       "      <td>Silk Road 2</td>\n",
       "      <td>http://silkroad6ownowfk.onion/items/25x-blue-a...</td>\n",
       "      <td>03welle</td>\n",
       "      <td>0.338722</td>\n",
       "      <td>25x Blue Androids 200 220mg MDMA</td>\n",
       "      <td>The successors of the Yellow Bitcoins Clean an...</td>\n",
       "      <td>2-37646</td>\n",
       "      <td>1402302370</td>\n",
       "      <td>Germany</td>\n",
       "      <td>NaN</td>\n",
       "    </tr>\n",
       "    <tr>\n",
       "      <th>13</th>\n",
       "      <td>2-6268</td>\n",
       "      <td>Silk Road 2</td>\n",
       "      <td>http://silkroad6ownowfk.onion/items/3x-18-20mg...</td>\n",
       "      <td>03welle</td>\n",
       "      <td>0.039131</td>\n",
       "      <td>3x 18 20mg 2C B HCl caps</td>\n",
       "      <td>Hey everyone we are thinking about broadening ...</td>\n",
       "      <td>2-6268</td>\n",
       "      <td>1401859451</td>\n",
       "      <td>Germany</td>\n",
       "      <td>NaN</td>\n",
       "    </tr>\n",
       "    <tr>\n",
       "      <th>14</th>\n",
       "      <td>2-6266</td>\n",
       "      <td>Silk Road 2</td>\n",
       "      <td>http://silkroad6ownowfk.onion/items/1x-18-20mg...</td>\n",
       "      <td>03welle</td>\n",
       "      <td>0.013501</td>\n",
       "      <td>1x 18 20mg 2C B HCl caps</td>\n",
       "      <td>Hey everyone we are thinking about broadening ...</td>\n",
       "      <td>2-6266</td>\n",
       "      <td>1401858886</td>\n",
       "      <td>Germany</td>\n",
       "      <td>NaN</td>\n",
       "    </tr>\n",
       "    <tr>\n",
       "      <th>15</th>\n",
       "      <td>2-33553</td>\n",
       "      <td>Silk Road 2</td>\n",
       "      <td>http://silkroad6ownowfk.onion/items/5-grams-md...</td>\n",
       "      <td>03welle</td>\n",
       "      <td>0.299513</td>\n",
       "      <td>5 grams MDMA crystals 83 pure</td>\n",
       "      <td>Usual doses of MDMA range from around 80 to 16...</td>\n",
       "      <td>2-33553</td>\n",
       "      <td>1401870190</td>\n",
       "      <td>Germany</td>\n",
       "      <td>NaN</td>\n",
       "    </tr>\n",
       "    <tr>\n",
       "      <th>16</th>\n",
       "      <td>2-37650</td>\n",
       "      <td>Silk Road 2</td>\n",
       "      <td>http://silkroad6ownowfk.onion/items/25x-bugatt...</td>\n",
       "      <td>03welle</td>\n",
       "      <td>0.337874</td>\n",
       "      <td>25x Bugattis 200 220mg MDMA</td>\n",
       "      <td>The successors of the popular Dominos Strong a...</td>\n",
       "      <td>2-37650</td>\n",
       "      <td>1401870071</td>\n",
       "      <td>Germany</td>\n",
       "      <td>NaN</td>\n",
       "    </tr>\n",
       "    <tr>\n",
       "      <th>17</th>\n",
       "      <td>2-37648</td>\n",
       "      <td>Silk Road 2</td>\n",
       "      <td>http://silkroad6ownowfk.onion/items/3x-bugatti...</td>\n",
       "      <td>03welle</td>\n",
       "      <td>0.046147</td>\n",
       "      <td>3x Bugattis 200 220mg MDMA</td>\n",
       "      <td>The successors of the popular Dominos Strong a...</td>\n",
       "      <td>2-37648</td>\n",
       "      <td>1401870059</td>\n",
       "      <td>Germany</td>\n",
       "      <td>NaN</td>\n",
       "    </tr>\n",
       "    <tr>\n",
       "      <th>18</th>\n",
       "      <td>2-33552</td>\n",
       "      <td>Silk Road 2</td>\n",
       "      <td>http://silkroad6ownowfk.onion/items/3-grams-md...</td>\n",
       "      <td>03welle</td>\n",
       "      <td>0.191484</td>\n",
       "      <td>3 grams MDMA crystals 83 pure</td>\n",
       "      <td>Usual doses of MDMA range from around 80 to 16...</td>\n",
       "      <td>2-33552</td>\n",
       "      <td>1401868835</td>\n",
       "      <td>Germany</td>\n",
       "      <td>NaN</td>\n",
       "    </tr>\n",
       "    <tr>\n",
       "      <th>19</th>\n",
       "      <td>2-23462</td>\n",
       "      <td>Silk Road 2</td>\n",
       "      <td>http://silkroad6ownowfk.onion/items/20gr-pure-...</td>\n",
       "      <td>0ldAmsterdam</td>\n",
       "      <td>0.822845</td>\n",
       "      <td>20gr Pure MDMA Crystals 84</td>\n",
       "      <td>20gr Pure MDMA Crystals. 84 Made from original...</td>\n",
       "      <td>2-23462</td>\n",
       "      <td>1401879605</td>\n",
       "      <td>Undeclared</td>\n",
       "      <td>NaN</td>\n",
       "    </tr>\n",
       "    <tr>\n",
       "      <th>20</th>\n",
       "      <td>2-23458</td>\n",
       "      <td>Silk Road 2</td>\n",
       "      <td>http://silkroad6ownowfk.onion/items/10gr-pure-...</td>\n",
       "      <td>0ldAmsterdam</td>\n",
       "      <td>0.461169</td>\n",
       "      <td>10gr Pure MDMA Crystals 84</td>\n",
       "      <td>10gr Pure MDMA Crystals. 84 Made from original...</td>\n",
       "      <td>2-23458</td>\n",
       "      <td>1401878496</td>\n",
       "      <td>Germany</td>\n",
       "      <td>NaN</td>\n",
       "    </tr>\n",
       "    <tr>\n",
       "      <th>21</th>\n",
       "      <td>2-27350</td>\n",
       "      <td>Silk Road 2</td>\n",
       "      <td>http://silkroad6ownowfk.onion/items/mollies-in...</td>\n",
       "      <td>1ChiTownMafia</td>\n",
       "      <td>0.024686</td>\n",
       "      <td>Mollies in capsules pure MDMA</td>\n",
       "      <td>Mollie pills for sale pure mdma. 1 pill for 15</td>\n",
       "      <td>2-27350</td>\n",
       "      <td>1402300402</td>\n",
       "      <td>United States</td>\n",
       "      <td>NaN</td>\n",
       "    </tr>\n",
       "    <tr>\n",
       "      <th>22</th>\n",
       "      <td>2-21495</td>\n",
       "      <td>Silk Road 2</td>\n",
       "      <td>http://silkroad6ownowfk.onion/items/1-oz-of-cr...</td>\n",
       "      <td>1ChiTownMafia</td>\n",
       "      <td>1.647085</td>\n",
       "      <td>1 oz of Crystal Meth</td>\n",
       "      <td>For sale is an ounce of pure uncut crystal meth</td>\n",
       "      <td>2-21495</td>\n",
       "      <td>1402303681</td>\n",
       "      <td>United States</td>\n",
       "      <td>NaN</td>\n",
       "    </tr>\n",
       "    <tr>\n",
       "      <th>23</th>\n",
       "      <td>2-27378</td>\n",
       "      <td>Silk Road 2</td>\n",
       "      <td>http://silkroad6ownowfk.onion/items/half-gram-...</td>\n",
       "      <td>1ChiTownMafia</td>\n",
       "      <td>0.074176</td>\n",
       "      <td>Half Gram of Crystal Meth</td>\n",
       "      <td>.5 Up for sale is a half gram of crystal meth</td>\n",
       "      <td>2-27378</td>\n",
       "      <td>1401859635</td>\n",
       "      <td>United States</td>\n",
       "      <td>NaN</td>\n",
       "    </tr>\n",
       "    <tr>\n",
       "      <th>24</th>\n",
       "      <td>2-21517</td>\n",
       "      <td>Silk Road 2</td>\n",
       "      <td>http://silkroad6ownowfk.onion/items/1-75-grams...</td>\n",
       "      <td>1ChiTownMafia</td>\n",
       "      <td>0.181319</td>\n",
       "      <td>1.75 grams of Crystal Meth</td>\n",
       "      <td>for sale is 1.75 grams of crystal meth</td>\n",
       "      <td>2-21517</td>\n",
       "      <td>1401859207</td>\n",
       "      <td>United States</td>\n",
       "      <td>NaN</td>\n",
       "    </tr>\n",
       "    <tr>\n",
       "      <th>25</th>\n",
       "      <td>2-21515</td>\n",
       "      <td>Silk Road 2</td>\n",
       "      <td>http://silkroad6ownowfk.onion/items/ball-of-cr...</td>\n",
       "      <td>1ChiTownMafia</td>\n",
       "      <td>0.313187</td>\n",
       "      <td>Ball of Crystal Meth 3.5grams</td>\n",
       "      <td>For sale is 3.5 grams of crystal meth</td>\n",
       "      <td>2-21515</td>\n",
       "      <td>1401859090</td>\n",
       "      <td>United States</td>\n",
       "      <td>NaN</td>\n",
       "    </tr>\n",
       "    <tr>\n",
       "      <th>26</th>\n",
       "      <td>2-21518</td>\n",
       "      <td>Silk Road 2</td>\n",
       "      <td>http://silkroad6ownowfk.onion/items/1-gram-of-...</td>\n",
       "      <td>1ChiTownMafia</td>\n",
       "      <td>0.115441</td>\n",
       "      <td>1 gram of Crystal Meth</td>\n",
       "      <td>For sale is 1 gram of pure uncut crystal meth</td>\n",
       "      <td>2-21518</td>\n",
       "      <td>1402298915</td>\n",
       "      <td>United States</td>\n",
       "      <td>NaN</td>\n",
       "    </tr>\n",
       "    <tr>\n",
       "      <th>27</th>\n",
       "      <td>2-21510</td>\n",
       "      <td>Silk Road 2</td>\n",
       "      <td>http://silkroad6ownowfk.onion/items/1-4-oz-of-...</td>\n",
       "      <td>1ChiTownMafia</td>\n",
       "      <td>0.558694</td>\n",
       "      <td>1 4 oz of Crystal Meth</td>\n",
       "      <td>For sale is 7grams of pure uncut crystal meth</td>\n",
       "      <td>2-21510</td>\n",
       "      <td>1402299997</td>\n",
       "      <td>United States</td>\n",
       "      <td>NaN</td>\n",
       "    </tr>\n",
       "    <tr>\n",
       "      <th>28</th>\n",
       "      <td>2-30498</td>\n",
       "      <td>Silk Road 2</td>\n",
       "      <td>http://silkroad6ownowfk.onion/items/sciroxx-pr...</td>\n",
       "      <td>1dboladay</td>\n",
       "      <td>0.156961</td>\n",
       "      <td>SCIROXX Primodex 100 Methenolone Enantahte 10m...</td>\n",
       "      <td>USA CUSTOMERS It s been a while but after some...</td>\n",
       "      <td>2-30498</td>\n",
       "      <td>1402305581</td>\n",
       "      <td>United States</td>\n",
       "      <td>NaN</td>\n",
       "    </tr>\n",
       "    <tr>\n",
       "      <th>29</th>\n",
       "      <td>2-8597</td>\n",
       "      <td>Silk Road 2</td>\n",
       "      <td>http://silkroad6ownowfk.onion/items/march-phar...</td>\n",
       "      <td>1dboladay</td>\n",
       "      <td>1.158425</td>\n",
       "      <td>MARCH PHARMA DANABOL DBOL 500tabs 10mg AUS ONLY</td>\n",
       "      <td>These are authentic MARCH PHARMA DANABOL Diana...</td>\n",
       "      <td>2-8597</td>\n",
       "      <td>1402304828</td>\n",
       "      <td>Australia</td>\n",
       "      <td>NaN</td>\n",
       "    </tr>\n",
       "  </tbody>\n",
       "</table>\n",
       "</div>"
      ],
      "text/plain": [
       "       hash  market_name                                          item_link  \\\n",
       "0    2-2509  Silk Road 2  http://silkroad6ownowfk.onion/items/extra-ship...   \n",
       "1   2-11922  Silk Road 2  http://silkroad6ownowfk.onion/items/220-fe-onl...   \n",
       "2   2-30410  Silk Road 2  http://silkroad6ownowfk.onion/items/buy-bitcoi...   \n",
       "3   2-38280  Silk Road 2  http://silkroad6ownowfk.onion/items/buy-bitcoi...   \n",
       "4    2-6786  Silk Road 2  http://silkroad6ownowfk.onion/items/1000mg-2c-...   \n",
       "5   2-33551  Silk Road 2  http://silkroad6ownowfk.onion/items/1-gram-mdm...   \n",
       "6   2-37647  Silk Road 2  http://silkroad6ownowfk.onion/items/1x-bugatti...   \n",
       "7   2-37644  Silk Road 2  http://silkroad6ownowfk.onion/items/1x-blue-an...   \n",
       "8   2-37643  Silk Road 2  http://silkroad6ownowfk.onion/items/3x-blue-an...   \n",
       "9    2-6271  Silk Road 2  http://silkroad6ownowfk.onion/items/10x-18-20m...   \n",
       "10  2-37633  Silk Road 2  http://silkroad6ownowfk.onion/items/5x-blue-an...   \n",
       "11   2-6270  Silk Road 2  http://silkroad6ownowfk.onion/items/5x-18-20mg...   \n",
       "12  2-37646  Silk Road 2  http://silkroad6ownowfk.onion/items/25x-blue-a...   \n",
       "13   2-6268  Silk Road 2  http://silkroad6ownowfk.onion/items/3x-18-20mg...   \n",
       "14   2-6266  Silk Road 2  http://silkroad6ownowfk.onion/items/1x-18-20mg...   \n",
       "15  2-33553  Silk Road 2  http://silkroad6ownowfk.onion/items/5-grams-md...   \n",
       "16  2-37650  Silk Road 2  http://silkroad6ownowfk.onion/items/25x-bugatt...   \n",
       "17  2-37648  Silk Road 2  http://silkroad6ownowfk.onion/items/3x-bugatti...   \n",
       "18  2-33552  Silk Road 2  http://silkroad6ownowfk.onion/items/3-grams-md...   \n",
       "19  2-23462  Silk Road 2  http://silkroad6ownowfk.onion/items/20gr-pure-...   \n",
       "20  2-23458  Silk Road 2  http://silkroad6ownowfk.onion/items/10gr-pure-...   \n",
       "21  2-27350  Silk Road 2  http://silkroad6ownowfk.onion/items/mollies-in...   \n",
       "22  2-21495  Silk Road 2  http://silkroad6ownowfk.onion/items/1-oz-of-cr...   \n",
       "23  2-27378  Silk Road 2  http://silkroad6ownowfk.onion/items/half-gram-...   \n",
       "24  2-21517  Silk Road 2  http://silkroad6ownowfk.onion/items/1-75-grams...   \n",
       "25  2-21515  Silk Road 2  http://silkroad6ownowfk.onion/items/ball-of-cr...   \n",
       "26  2-21518  Silk Road 2  http://silkroad6ownowfk.onion/items/1-gram-of-...   \n",
       "27  2-21510  Silk Road 2  http://silkroad6ownowfk.onion/items/1-4-oz-of-...   \n",
       "28  2-30498  Silk Road 2  http://silkroad6ownowfk.onion/items/sciroxx-pr...   \n",
       "29   2-8597  Silk Road 2  http://silkroad6ownowfk.onion/items/march-phar...   \n",
       "\n",
       "       vendor_name     price  \\\n",
       "0   $220for28grams  0.000017   \n",
       "1   $220for28grams  0.337382   \n",
       "2       *REALDEAL*  0.000000   \n",
       "3       *REALDEAL*  0.000000   \n",
       "4          03welle  0.247126   \n",
       "5          03welle  0.068507   \n",
       "6          03welle  0.016484   \n",
       "7          03welle  0.016459   \n",
       "8          03welle  0.046209   \n",
       "9          03welle  0.110308   \n",
       "10         03welle  0.072239   \n",
       "11         03welle  0.059375   \n",
       "12         03welle  0.338722   \n",
       "13         03welle  0.039131   \n",
       "14         03welle  0.013501   \n",
       "15         03welle  0.299513   \n",
       "16         03welle  0.337874   \n",
       "17         03welle  0.046147   \n",
       "18         03welle  0.191484   \n",
       "19    0ldAmsterdam  0.822845   \n",
       "20    0ldAmsterdam  0.461169   \n",
       "21   1ChiTownMafia  0.024686   \n",
       "22   1ChiTownMafia  1.647085   \n",
       "23   1ChiTownMafia  0.074176   \n",
       "24   1ChiTownMafia  0.181319   \n",
       "25   1ChiTownMafia  0.313187   \n",
       "26   1ChiTownMafia  0.115441   \n",
       "27   1ChiTownMafia  0.558694   \n",
       "28       1dboladay  0.156961   \n",
       "29       1dboladay  1.158425   \n",
       "\n",
       "                                                 name  \\\n",
       "0                     Extra shipping for custom order   \n",
       "1                                 220 FE Only TW X MB   \n",
       "2                   BUY BITCOINS WITH NETSPEND RELOAD   \n",
       "3        BUY BITCOINS WITH MONEYGRAM OR WESTERN UNION   \n",
       "4                                1000mg 2C B HCl pure   \n",
       "5                        1 gram MDMA crystals 83 pure   \n",
       "6                           1x Bugatti 200 220mg MDMA   \n",
       "7                      1x Blue Android 200 220mg MDMA   \n",
       "8                     3x Blue Androids 200 220mg MDMA   \n",
       "9                           10x 18 20mg 2C B HCl caps   \n",
       "10                    5x Blue Androids 200 220mg MDMA   \n",
       "11                           5x 18 20mg 2C B HCl caps   \n",
       "12                   25x Blue Androids 200 220mg MDMA   \n",
       "13                           3x 18 20mg 2C B HCl caps   \n",
       "14                           1x 18 20mg 2C B HCl caps   \n",
       "15                      5 grams MDMA crystals 83 pure   \n",
       "16                        25x Bugattis 200 220mg MDMA   \n",
       "17                         3x Bugattis 200 220mg MDMA   \n",
       "18                      3 grams MDMA crystals 83 pure   \n",
       "19                         20gr Pure MDMA Crystals 84   \n",
       "20                         10gr Pure MDMA Crystals 84   \n",
       "21                      Mollies in capsules pure MDMA   \n",
       "22                               1 oz of Crystal Meth   \n",
       "23                          Half Gram of Crystal Meth   \n",
       "24                         1.75 grams of Crystal Meth   \n",
       "25                      Ball of Crystal Meth 3.5grams   \n",
       "26                             1 gram of Crystal Meth   \n",
       "27                             1 4 oz of Crystal Meth   \n",
       "28  SCIROXX Primodex 100 Methenolone Enantahte 10m...   \n",
       "29    MARCH PHARMA DANABOL DBOL 500tabs 10mg AUS ONLY   \n",
       "\n",
       "                                          description image_link    add_time  \\\n",
       "0   Extra Shipping for custom order. If you don t ...        NaN  1402306960   \n",
       "1   1oz of the same tw x mb as my other listing FE...        NaN  1401874137   \n",
       "2   BUY BITCOINS WITH NETSPEND RELOAD LEAVE THE FO...    2-30410  1401864341   \n",
       "3   DUE TO THE CRACK DOWN ON THE PREPAID CREDIT CA...    2-38280  1401887490   \n",
       "4   The effects of 2C B are often described as a c...     2-6786  1402304534   \n",
       "5   Usual doses of MDMA range from around 80 to 16...    2-33551  1401865121   \n",
       "6   The successors of the popular Dominos Strong a...    2-37647  1401865065   \n",
       "7   The successors of the Yellow Bitcoins Clean an...    2-37644  1401863523   \n",
       "8   The successors of the Yellow Bitcoins Clean an...    2-37643  1401862862   \n",
       "9   Hey everyone we are thinking about broadening ...     2-6271  1401860893   \n",
       "10  The successors of the Yellow Bitcoins Clean an...    2-37633  1401860153   \n",
       "11  Hey everyone we are thinking about broadening ...     2-6270  1401859931   \n",
       "12  The successors of the Yellow Bitcoins Clean an...    2-37646  1402302370   \n",
       "13  Hey everyone we are thinking about broadening ...     2-6268  1401859451   \n",
       "14  Hey everyone we are thinking about broadening ...     2-6266  1401858886   \n",
       "15  Usual doses of MDMA range from around 80 to 16...    2-33553  1401870190   \n",
       "16  The successors of the popular Dominos Strong a...    2-37650  1401870071   \n",
       "17  The successors of the popular Dominos Strong a...    2-37648  1401870059   \n",
       "18  Usual doses of MDMA range from around 80 to 16...    2-33552  1401868835   \n",
       "19  20gr Pure MDMA Crystals. 84 Made from original...    2-23462  1401879605   \n",
       "20  10gr Pure MDMA Crystals. 84 Made from original...    2-23458  1401878496   \n",
       "21     Mollie pills for sale pure mdma. 1 pill for 15    2-27350  1402300402   \n",
       "22    For sale is an ounce of pure uncut crystal meth    2-21495  1402303681   \n",
       "23      .5 Up for sale is a half gram of crystal meth    2-27378  1401859635   \n",
       "24             for sale is 1.75 grams of crystal meth    2-21517  1401859207   \n",
       "25              For sale is 3.5 grams of crystal meth    2-21515  1401859090   \n",
       "26      For sale is 1 gram of pure uncut crystal meth    2-21518  1402298915   \n",
       "27      For sale is 7grams of pure uncut crystal meth    2-21510  1402299997   \n",
       "28  USA CUSTOMERS It s been a while but after some...    2-30498  1402305581   \n",
       "29  These are authentic MARCH PHARMA DANABOL Diana...     2-8597  1402304828   \n",
       "\n",
       "        ship_from  Unnamed: 10  \n",
       "0   United States          NaN  \n",
       "1   United States          NaN  \n",
       "2   United States          NaN  \n",
       "3   United States          NaN  \n",
       "4         Germany          NaN  \n",
       "5         Germany          NaN  \n",
       "6         Germany          NaN  \n",
       "7         Germany          NaN  \n",
       "8         Germany          NaN  \n",
       "9         Germany          NaN  \n",
       "10        Germany          NaN  \n",
       "11        Germany          NaN  \n",
       "12        Germany          NaN  \n",
       "13        Germany          NaN  \n",
       "14        Germany          NaN  \n",
       "15        Germany          NaN  \n",
       "16        Germany          NaN  \n",
       "17        Germany          NaN  \n",
       "18        Germany          NaN  \n",
       "19     Undeclared          NaN  \n",
       "20        Germany          NaN  \n",
       "21  United States          NaN  \n",
       "22  United States          NaN  \n",
       "23  United States          NaN  \n",
       "24  United States          NaN  \n",
       "25  United States          NaN  \n",
       "26  United States          NaN  \n",
       "27  United States          NaN  \n",
       "28  United States          NaN  \n",
       "29      Australia          NaN  "
      ]
     },
     "execution_count": 136,
     "metadata": {},
     "output_type": "execute_result"
    }
   ],
   "source": [
    "silk_road_df.head(30)"
   ]
  },
  {
   "cell_type": "code",
   "execution_count": 161,
   "metadata": {},
   "outputs": [
    {
     "data": {
      "text/plain": [
       "array([91])"
      ]
     },
     "execution_count": 161,
     "metadata": {},
     "output_type": "execute_result"
    }
   ],
   "source": [
    "le.transform(['Other'])"
   ]
  },
  {
   "cell_type": "code",
   "execution_count": 165,
   "metadata": {},
   "outputs": [
    {
     "data": {
      "text/plain": [
       "688"
      ]
     },
     "execution_count": 165,
     "metadata": {},
     "output_type": "execute_result"
    }
   ],
   "source": [
    "silk_road_df.vendor_name.nunique()"
   ]
  },
  {
   "cell_type": "code",
   "execution_count": 178,
   "metadata": {},
   "outputs": [],
   "source": [
    "files = []\n",
    "for root, dirs, file in os.walk('/Volumes/SeagateBlue/ds_data/dark_net_market/dnmarchives_rsync_expanded/grams'):\n",
    "    files.append((root, dirs, file))"
   ]
  },
  {
   "cell_type": "code",
   "execution_count": 180,
   "metadata": {},
   "outputs": [
    {
     "data": {
      "text/plain": [
       "265"
      ]
     },
     "execution_count": 180,
     "metadata": {},
     "output_type": "execute_result"
    }
   ],
   "source": [
    "len(files)"
   ]
  },
  {
   "cell_type": "code",
   "execution_count": 197,
   "metadata": {},
   "outputs": [
    {
     "data": {
      "text/plain": [
       "Counter({'1776.csv': 1,\n",
       "         'ADM.csv': 79,\n",
       "         'Agora.csv': 247,\n",
       "         'BB.csv': 205,\n",
       "         'Bungee54.csv': 96,\n",
       "         'C9.csv': 94,\n",
       "         'EVO.csv': 172,\n",
       "         'Pandora.csv': 46,\n",
       "         'SilkRoad.csv': 85,\n",
       "         'TPM.csv': 76,\n",
       "         'ME.csv': 222,\n",
       "         'TOM.csv': 45,\n",
       "         'Alpaca.csv': 41,\n",
       "         'OutLaw.csv': 143,\n",
       "         'EVO2.csv': 25,\n",
       "         'NK.csv': 107,\n",
       "         'Alpha.csv': 76,\n",
       "         'Abraxas.csv': 42,\n",
       "         'Haven.csv': 12,\n",
       "         'Oxygen .csv': 27,\n",
       "         'Silkkitie.csv': 24})"
      ]
     },
     "execution_count": 197,
     "metadata": {},
     "output_type": "execute_result"
    }
   ],
   "source": [
    "Counter([y for x in files[11:] for y in x[2]])"
   ]
  },
  {
   "cell_type": "code",
   "execution_count": 202,
   "metadata": {},
   "outputs": [],
   "source": [
    "silk_road_file_path = []\n",
    "for root, dirs, file in files:\n",
    "    if 'SilkRoad.csv' in file:\n",
    "        silk_road_file_path.append(root+'/'+'SilkRoad.csv')"
   ]
  },
  {
   "cell_type": "code",
   "execution_count": 203,
   "metadata": {},
   "outputs": [
    {
     "data": {
      "text/plain": [
       "['/Volumes/SeagateBlue/ds_data/dark_net_market/dnmarchives_rsync_expanded/grams/2014-06-09/SilkRoad.csv',\n",
       " '/Volumes/SeagateBlue/ds_data/dark_net_market/dnmarchives_rsync_expanded/grams/2014-06-11/SilkRoad.csv',\n",
       " '/Volumes/SeagateBlue/ds_data/dark_net_market/dnmarchives_rsync_expanded/grams/2014-06-11-2/SilkRoad.csv',\n",
       " '/Volumes/SeagateBlue/ds_data/dark_net_market/dnmarchives_rsync_expanded/grams/2014-06-12/SilkRoad.csv',\n",
       " '/Volumes/SeagateBlue/ds_data/dark_net_market/dnmarchives_rsync_expanded/grams/2014-06-13/SilkRoad.csv',\n",
       " '/Volumes/SeagateBlue/ds_data/dark_net_market/dnmarchives_rsync_expanded/grams/2014-06-14/SilkRoad.csv',\n",
       " '/Volumes/SeagateBlue/ds_data/dark_net_market/dnmarchives_rsync_expanded/grams/2014-06-15/SilkRoad.csv',\n",
       " '/Volumes/SeagateBlue/ds_data/dark_net_market/dnmarchives_rsync_expanded/grams/2014-06-16/SilkRoad.csv',\n",
       " '/Volumes/SeagateBlue/ds_data/dark_net_market/dnmarchives_rsync_expanded/grams/2014-06-17/SilkRoad.csv',\n",
       " '/Volumes/SeagateBlue/ds_data/dark_net_market/dnmarchives_rsync_expanded/grams/2014-06-18/SilkRoad.csv',\n",
       " '/Volumes/SeagateBlue/ds_data/dark_net_market/dnmarchives_rsync_expanded/grams/2014-06-19/SilkRoad.csv',\n",
       " '/Volumes/SeagateBlue/ds_data/dark_net_market/dnmarchives_rsync_expanded/grams/2014-06-20/SilkRoad.csv',\n",
       " '/Volumes/SeagateBlue/ds_data/dark_net_market/dnmarchives_rsync_expanded/grams/2014-06-21/SilkRoad.csv',\n",
       " '/Volumes/SeagateBlue/ds_data/dark_net_market/dnmarchives_rsync_expanded/grams/2014-06-22/SilkRoad.csv',\n",
       " '/Volumes/SeagateBlue/ds_data/dark_net_market/dnmarchives_rsync_expanded/grams/2014-06-23/SilkRoad.csv',\n",
       " '/Volumes/SeagateBlue/ds_data/dark_net_market/dnmarchives_rsync_expanded/grams/2014-06-24/SilkRoad.csv',\n",
       " '/Volumes/SeagateBlue/ds_data/dark_net_market/dnmarchives_rsync_expanded/grams/2014-06-25/SilkRoad.csv',\n",
       " '/Volumes/SeagateBlue/ds_data/dark_net_market/dnmarchives_rsync_expanded/grams/2014-06-27/SilkRoad.csv',\n",
       " '/Volumes/SeagateBlue/ds_data/dark_net_market/dnmarchives_rsync_expanded/grams/2014-06-28/SilkRoad.csv',\n",
       " '/Volumes/SeagateBlue/ds_data/dark_net_market/dnmarchives_rsync_expanded/grams/2014-07-02/SilkRoad.csv',\n",
       " '/Volumes/SeagateBlue/ds_data/dark_net_market/dnmarchives_rsync_expanded/grams/2014-07-03/SilkRoad.csv',\n",
       " '/Volumes/SeagateBlue/ds_data/dark_net_market/dnmarchives_rsync_expanded/grams/2014-07-05/SilkRoad.csv',\n",
       " '/Volumes/SeagateBlue/ds_data/dark_net_market/dnmarchives_rsync_expanded/grams/2014-07-06/SilkRoad.csv',\n",
       " '/Volumes/SeagateBlue/ds_data/dark_net_market/dnmarchives_rsync_expanded/grams/2014-07-07/SilkRoad.csv',\n",
       " '/Volumes/SeagateBlue/ds_data/dark_net_market/dnmarchives_rsync_expanded/grams/2014-07-08/SilkRoad.csv',\n",
       " '/Volumes/SeagateBlue/ds_data/dark_net_market/dnmarchives_rsync_expanded/grams/2014-07-21/SilkRoad.csv',\n",
       " '/Volumes/SeagateBlue/ds_data/dark_net_market/dnmarchives_rsync_expanded/grams/2014-07-22/SilkRoad.csv',\n",
       " '/Volumes/SeagateBlue/ds_data/dark_net_market/dnmarchives_rsync_expanded/grams/2014-07-23/SilkRoad.csv',\n",
       " '/Volumes/SeagateBlue/ds_data/dark_net_market/dnmarchives_rsync_expanded/grams/2014-07-24/SilkRoad.csv',\n",
       " '/Volumes/SeagateBlue/ds_data/dark_net_market/dnmarchives_rsync_expanded/grams/2014-07-25/SilkRoad.csv',\n",
       " '/Volumes/SeagateBlue/ds_data/dark_net_market/dnmarchives_rsync_expanded/grams/2014-07-26/SilkRoad.csv',\n",
       " '/Volumes/SeagateBlue/ds_data/dark_net_market/dnmarchives_rsync_expanded/grams/2014-07-28/SilkRoad.csv',\n",
       " '/Volumes/SeagateBlue/ds_data/dark_net_market/dnmarchives_rsync_expanded/grams/2014-07-30/SilkRoad.csv',\n",
       " '/Volumes/SeagateBlue/ds_data/dark_net_market/dnmarchives_rsync_expanded/grams/2014-08-01/SilkRoad.csv',\n",
       " '/Volumes/SeagateBlue/ds_data/dark_net_market/dnmarchives_rsync_expanded/grams/2014-08-03/SilkRoad.csv',\n",
       " '/Volumes/SeagateBlue/ds_data/dark_net_market/dnmarchives_rsync_expanded/grams/2014-08-05/SilkRoad.csv',\n",
       " '/Volumes/SeagateBlue/ds_data/dark_net_market/dnmarchives_rsync_expanded/grams/2014-08-06/SilkRoad.csv',\n",
       " '/Volumes/SeagateBlue/ds_data/dark_net_market/dnmarchives_rsync_expanded/grams/2014-08-14/SilkRoad.csv',\n",
       " '/Volumes/SeagateBlue/ds_data/dark_net_market/dnmarchives_rsync_expanded/grams/2014-08-15/SilkRoad.csv',\n",
       " '/Volumes/SeagateBlue/ds_data/dark_net_market/dnmarchives_rsync_expanded/grams/2014-08-16/SilkRoad.csv',\n",
       " '/Volumes/SeagateBlue/ds_data/dark_net_market/dnmarchives_rsync_expanded/grams/2014-08-20/SilkRoad.csv',\n",
       " '/Volumes/SeagateBlue/ds_data/dark_net_market/dnmarchives_rsync_expanded/grams/2014-08-25/SilkRoad.csv',\n",
       " '/Volumes/SeagateBlue/ds_data/dark_net_market/dnmarchives_rsync_expanded/grams/2014-08-26/SilkRoad.csv',\n",
       " '/Volumes/SeagateBlue/ds_data/dark_net_market/dnmarchives_rsync_expanded/grams/2014-08-27/SilkRoad.csv',\n",
       " '/Volumes/SeagateBlue/ds_data/dark_net_market/dnmarchives_rsync_expanded/grams/2014-08-29/SilkRoad.csv',\n",
       " '/Volumes/SeagateBlue/ds_data/dark_net_market/dnmarchives_rsync_expanded/grams/2014-08-31/SilkRoad.csv',\n",
       " '/Volumes/SeagateBlue/ds_data/dark_net_market/dnmarchives_rsync_expanded/grams/2014-09-03/SilkRoad.csv',\n",
       " '/Volumes/SeagateBlue/ds_data/dark_net_market/dnmarchives_rsync_expanded/grams/2014-09-06/SilkRoad.csv',\n",
       " '/Volumes/SeagateBlue/ds_data/dark_net_market/dnmarchives_rsync_expanded/grams/2014-09-08/SilkRoad.csv',\n",
       " '/Volumes/SeagateBlue/ds_data/dark_net_market/dnmarchives_rsync_expanded/grams/2014-09-09/SilkRoad.csv',\n",
       " '/Volumes/SeagateBlue/ds_data/dark_net_market/dnmarchives_rsync_expanded/grams/2014-09-10/SilkRoad.csv',\n",
       " '/Volumes/SeagateBlue/ds_data/dark_net_market/dnmarchives_rsync_expanded/grams/2014-09-12/SilkRoad.csv',\n",
       " '/Volumes/SeagateBlue/ds_data/dark_net_market/dnmarchives_rsync_expanded/grams/2014-09-13/SilkRoad.csv',\n",
       " '/Volumes/SeagateBlue/ds_data/dark_net_market/dnmarchives_rsync_expanded/grams/2014-09-15/SilkRoad.csv',\n",
       " '/Volumes/SeagateBlue/ds_data/dark_net_market/dnmarchives_rsync_expanded/grams/2014-09-17/SilkRoad.csv',\n",
       " '/Volumes/SeagateBlue/ds_data/dark_net_market/dnmarchives_rsync_expanded/grams/2014-09-18/SilkRoad.csv',\n",
       " '/Volumes/SeagateBlue/ds_data/dark_net_market/dnmarchives_rsync_expanded/grams/2014-09-20/SilkRoad.csv',\n",
       " '/Volumes/SeagateBlue/ds_data/dark_net_market/dnmarchives_rsync_expanded/grams/2014-09-21/SilkRoad.csv',\n",
       " '/Volumes/SeagateBlue/ds_data/dark_net_market/dnmarchives_rsync_expanded/grams/2014-09-22/SilkRoad.csv',\n",
       " '/Volumes/SeagateBlue/ds_data/dark_net_market/dnmarchives_rsync_expanded/grams/2014-09-24/SilkRoad.csv',\n",
       " '/Volumes/SeagateBlue/ds_data/dark_net_market/dnmarchives_rsync_expanded/grams/2014-09-25/SilkRoad.csv',\n",
       " '/Volumes/SeagateBlue/ds_data/dark_net_market/dnmarchives_rsync_expanded/grams/2014-09-26/SilkRoad.csv',\n",
       " '/Volumes/SeagateBlue/ds_data/dark_net_market/dnmarchives_rsync_expanded/grams/2014-09-28/SilkRoad.csv',\n",
       " '/Volumes/SeagateBlue/ds_data/dark_net_market/dnmarchives_rsync_expanded/grams/2014-09-29/SilkRoad.csv',\n",
       " '/Volumes/SeagateBlue/ds_data/dark_net_market/dnmarchives_rsync_expanded/grams/2014-09-30/SilkRoad.csv',\n",
       " '/Volumes/SeagateBlue/ds_data/dark_net_market/dnmarchives_rsync_expanded/grams/2014-10-02/SilkRoad.csv',\n",
       " '/Volumes/SeagateBlue/ds_data/dark_net_market/dnmarchives_rsync_expanded/grams/2014-10-04/SilkRoad.csv',\n",
       " '/Volumes/SeagateBlue/ds_data/dark_net_market/dnmarchives_rsync_expanded/grams/2014-10-06/SilkRoad.csv',\n",
       " '/Volumes/SeagateBlue/ds_data/dark_net_market/dnmarchives_rsync_expanded/grams/2014-10-10/SilkRoad.csv',\n",
       " '/Volumes/SeagateBlue/ds_data/dark_net_market/dnmarchives_rsync_expanded/grams/2014-10-11/SilkRoad.csv',\n",
       " '/Volumes/SeagateBlue/ds_data/dark_net_market/dnmarchives_rsync_expanded/grams/2014-10-13/SilkRoad.csv',\n",
       " '/Volumes/SeagateBlue/ds_data/dark_net_market/dnmarchives_rsync_expanded/grams/2014-10-15/SilkRoad.csv',\n",
       " '/Volumes/SeagateBlue/ds_data/dark_net_market/dnmarchives_rsync_expanded/grams/2014-10-16/SilkRoad.csv',\n",
       " '/Volumes/SeagateBlue/ds_data/dark_net_market/dnmarchives_rsync_expanded/grams/2014-10-17/SilkRoad.csv',\n",
       " '/Volumes/SeagateBlue/ds_data/dark_net_market/dnmarchives_rsync_expanded/grams/2014-10-18/SilkRoad.csv',\n",
       " '/Volumes/SeagateBlue/ds_data/dark_net_market/dnmarchives_rsync_expanded/grams/2014-10-29/SilkRoad.csv',\n",
       " '/Volumes/SeagateBlue/ds_data/dark_net_market/dnmarchives_rsync_expanded/grams/2014-10-30/SilkRoad.csv',\n",
       " '/Volumes/SeagateBlue/ds_data/dark_net_market/dnmarchives_rsync_expanded/grams/2014-10-31/SilkRoad.csv',\n",
       " '/Volumes/SeagateBlue/ds_data/dark_net_market/dnmarchives_rsync_expanded/grams/2014-11-01/SilkRoad.csv',\n",
       " '/Volumes/SeagateBlue/ds_data/dark_net_market/dnmarchives_rsync_expanded/grams/2014-11-02/SilkRoad.csv',\n",
       " '/Volumes/SeagateBlue/ds_data/dark_net_market/dnmarchives_rsync_expanded/grams/2014-11-03/SilkRoad.csv',\n",
       " '/Volumes/SeagateBlue/ds_data/dark_net_market/dnmarchives_rsync_expanded/grams/2014-11-04/SilkRoad.csv',\n",
       " '/Volumes/SeagateBlue/ds_data/dark_net_market/dnmarchives_rsync_expanded/grams/2014-11-05/SilkRoad.csv',\n",
       " '/Volumes/SeagateBlue/ds_data/dark_net_market/dnmarchives_rsync_expanded/grams/2014-11-06/SilkRoad.csv',\n",
       " '/Volumes/SeagateBlue/ds_data/dark_net_market/dnmarchives_rsync_expanded/grams/2014-11-07/SilkRoad.csv']"
      ]
     },
     "execution_count": 203,
     "metadata": {},
     "output_type": "execute_result"
    }
   ],
   "source": [
    "silk_road_file_path"
   ]
  },
  {
   "cell_type": "code",
   "execution_count": 300,
   "metadata": {},
   "outputs": [],
   "source": [
    "silk_road_full_df = pd.concat([pd.read_csv(f, memory_map=True) for f in silk_road_file_path], ignore_index=True)"
   ]
  },
  {
   "cell_type": "code",
   "execution_count": 301,
   "metadata": {},
   "outputs": [
    {
     "data": {
      "text/plain": [
       "(810721, 11)"
      ]
     },
     "execution_count": 301,
     "metadata": {},
     "output_type": "execute_result"
    }
   ],
   "source": [
    "silk_road_full_df.shape"
   ]
  },
  {
   "cell_type": "code",
   "execution_count": 211,
   "metadata": {},
   "outputs": [
    {
     "data": {
      "text/plain": [
       "1261060625"
      ]
     },
     "execution_count": 211,
     "metadata": {},
     "output_type": "execute_result"
    }
   ],
   "source": [
    "silk_road_full_df.memory_usage(index=True, deep=True).sum()"
   ]
  },
  {
   "cell_type": "code",
   "execution_count": 212,
   "metadata": {},
   "outputs": [
    {
     "data": {
      "text/plain": [
       "1261.060625"
      ]
     },
     "execution_count": 212,
     "metadata": {},
     "output_type": "execute_result"
    }
   ],
   "source": [
    "1261060625/1000000"
   ]
  },
  {
   "cell_type": "code",
   "execution_count": 302,
   "metadata": {},
   "outputs": [],
   "source": [
    "silkroad_names_cv_full = cv1.transform(silk_road_full_df.name.map(alphanumeric).map(punc_lower))\n",
    "predicted_categories_full = nb.predict(silkroad_names_cv_full)"
   ]
  },
  {
   "cell_type": "code",
   "execution_count": 303,
   "metadata": {},
   "outputs": [],
   "source": [
    "regex_quantity_weight_unit = r'(?P<quantity>\\d*)\\s(?P<weight>\\d*\\.?\\d+)\\s?(?P<si_unit>kg|g|mg|mcg|oz|ounce|ounces|lb|pound|ml|mcl|liter|litre)'\n",
    "size_of_items_full = silk_road_full_df.name.str.lower().str.extract(regex_quantity_weight_unit)"
   ]
  },
  {
   "cell_type": "code",
   "execution_count": 304,
   "metadata": {},
   "outputs": [],
   "source": [
    "adj_price_full = silk_road_full_df.iloc[size_of_items_full.dropna().index].price / \\\n",
    "    (size_of_items_full.dropna().quantity.apply(lambda x: 1 if x=='' else int(x)) \\\n",
    "     * size_of_items_full.dropna().weight.apply(float) \\\n",
    "     * size_of_items_full.dropna().si_unit.apply(convert_si)\n",
    "    )"
   ]
  },
  {
   "cell_type": "code",
   "execution_count": 306,
   "metadata": {},
   "outputs": [],
   "source": [
    "silkroad_full_price_cat_time = \\\n",
    "pd.DataFrame({'adj_price': adj_price_full,\n",
    "              'category': predicted_categories_full[size_of_items_full.dropna().index],\n",
    "              'add_time': silk_road_full_df.iloc[size_of_items_full.dropna().index].add_time\n",
    "             }\n",
    "            )"
   ]
  },
  {
   "cell_type": "code",
   "execution_count": 307,
   "metadata": {},
   "outputs": [
    {
     "data": {
      "text/plain": [
       "50    69356\n",
       "20    39867\n",
       "37    37226\n",
       "27    35260\n",
       "63    31754\n",
       "35    14841\n",
       "62    12937\n",
       "64     8290\n",
       "23     7876\n",
       "26     6938\n",
       "21     6164\n",
       "68     4389\n",
       "54     4051\n",
       "66     3967\n",
       "57     3803\n",
       "48     3128\n",
       "67     3108\n",
       "56     2082\n",
       "22     1944\n",
       "43     1856\n",
       "30     1640\n",
       "36     1501\n",
       "7      1314\n",
       "42     1271\n",
       "38     1200\n",
       "53     1129\n",
       "70      991\n",
       "52      846\n",
       "51      675\n",
       "6       667\n",
       "94      661\n",
       "31      569\n",
       "34      510\n",
       "29      473\n",
       "39      452\n",
       "98      432\n",
       "45      368\n",
       "58      343\n",
       "49      263\n",
       "89      225\n",
       "28      184\n",
       "88      128\n",
       "60       78\n",
       "91       77\n",
       "69       69\n",
       "5        66\n",
       "24       55\n",
       "47       49\n",
       "59       32\n",
       "17       30\n",
       "72       30\n",
       "8        24\n",
       "44        7\n",
       "Name: category, dtype: int64"
      ]
     },
     "execution_count": 307,
     "metadata": {},
     "output_type": "execute_result"
    }
   ],
   "source": [
    "silkroad_full_price_cat_time.category.value_counts()"
   ]
  },
  {
   "cell_type": "code",
   "execution_count": 338,
   "metadata": {},
   "outputs": [
    {
     "data": {
      "text/plain": [
       "array(['Drugs/Prescription'], dtype=object)"
      ]
     },
     "execution_count": 338,
     "metadata": {},
     "output_type": "execute_result"
    }
   ],
   "source": [
    "le.inverse_transform([50])"
   ]
  },
  {
   "cell_type": "code",
   "execution_count": 327,
   "metadata": {},
   "outputs": [],
   "source": [
    "prophet_transformed = silkroad_full_price_cat_time[silkroad_full_price_cat_time.category==50][\n",
    "    ['add_time', 'adj_price']\n",
    "].transform({'add_time': pd.Timestamp.fromtimestamp, 'adj_price': lambda x: x})\\\n",
    ".rename(columns={'add_time': 'ds', 'adj_price': 'y'})"
   ]
  },
  {
   "cell_type": "code",
   "execution_count": 364,
   "metadata": {},
   "outputs": [
    {
     "data": {
      "text/plain": [
       "0.0001      0.0000\n",
       "0.9500    309.7922\n",
       "Name: y, dtype: float64"
      ]
     },
     "execution_count": 364,
     "metadata": {},
     "output_type": "execute_result"
    }
   ],
   "source": [
    "quantiles = prophet_transformed.y.quantile([.0001, .95])\n",
    "quantiles"
   ]
  },
  {
   "cell_type": "code",
   "execution_count": 371,
   "metadata": {},
   "outputs": [],
   "source": [
    "prophet_transformed = prophet_transformed[\n",
    "    (prophet_transformed.y > quantiles.iloc[0]) & (prophet_transformed.y < quantiles.iloc[1])\n",
    "]"
   ]
  },
  {
   "cell_type": "code",
   "execution_count": 373,
   "metadata": {},
   "outputs": [],
   "source": [
    "fb_prophet = Prophet()"
   ]
  },
  {
   "cell_type": "code",
   "execution_count": 374,
   "metadata": {},
   "outputs": [
    {
     "name": "stderr",
     "output_type": "stream",
     "text": [
      "INFO:fbprophet.forecaster:Disabling yearly seasonality. Run prophet with yearly_seasonality=True to override this.\n",
      "/Users/jonathandawson/anaconda3/lib/python3.6/site-packages/pystan/misc.py:399: FutureWarning: Conversion of the second argument of issubdtype from `float` to `np.floating` is deprecated. In future, it will be treated as `np.float64 == np.dtype(float).type`.\n",
      "  elif np.issubdtype(np.asarray(v).dtype, float):\n"
     ]
    },
    {
     "data": {
      "text/plain": [
       "<fbprophet.forecaster.Prophet at 0x1a2ff55ef0>"
      ]
     },
     "execution_count": 374,
     "metadata": {},
     "output_type": "execute_result"
    }
   ],
   "source": [
    "fb_prophet.fit(prophet_transformed.replace([np.inf, -np.inf], np.nan))"
   ]
  },
  {
   "cell_type": "code",
   "execution_count": 375,
   "metadata": {},
   "outputs": [
    {
     "data": {
      "text/html": [
       "<div>\n",
       "<style scoped>\n",
       "    .dataframe tbody tr th:only-of-type {\n",
       "        vertical-align: middle;\n",
       "    }\n",
       "\n",
       "    .dataframe tbody tr th {\n",
       "        vertical-align: top;\n",
       "    }\n",
       "\n",
       "    .dataframe thead th {\n",
       "        text-align: right;\n",
       "    }\n",
       "</style>\n",
       "<table border=\"1\" class=\"dataframe\">\n",
       "  <thead>\n",
       "    <tr style=\"text-align: right;\">\n",
       "      <th></th>\n",
       "      <th>ds</th>\n",
       "    </tr>\n",
       "  </thead>\n",
       "  <tbody>\n",
       "    <tr>\n",
       "      <th>65890</th>\n",
       "      <td>2014-11-26 10:24:54</td>\n",
       "    </tr>\n",
       "    <tr>\n",
       "      <th>65891</th>\n",
       "      <td>2014-11-27 10:24:54</td>\n",
       "    </tr>\n",
       "    <tr>\n",
       "      <th>65892</th>\n",
       "      <td>2014-11-28 10:24:54</td>\n",
       "    </tr>\n",
       "    <tr>\n",
       "      <th>65893</th>\n",
       "      <td>2014-11-29 10:24:54</td>\n",
       "    </tr>\n",
       "    <tr>\n",
       "      <th>65894</th>\n",
       "      <td>2014-11-30 10:24:54</td>\n",
       "    </tr>\n",
       "  </tbody>\n",
       "</table>\n",
       "</div>"
      ],
      "text/plain": [
       "                       ds\n",
       "65890 2014-11-26 10:24:54\n",
       "65891 2014-11-27 10:24:54\n",
       "65892 2014-11-28 10:24:54\n",
       "65893 2014-11-29 10:24:54\n",
       "65894 2014-11-30 10:24:54"
      ]
     },
     "execution_count": 375,
     "metadata": {},
     "output_type": "execute_result"
    }
   ],
   "source": [
    "future = fb_prophet.make_future_dataframe(periods=30)\n",
    "future.tail()"
   ]
  },
  {
   "cell_type": "code",
   "execution_count": 376,
   "metadata": {},
   "outputs": [
    {
     "data": {
      "text/html": [
       "<div>\n",
       "<style scoped>\n",
       "    .dataframe tbody tr th:only-of-type {\n",
       "        vertical-align: middle;\n",
       "    }\n",
       "\n",
       "    .dataframe tbody tr th {\n",
       "        vertical-align: top;\n",
       "    }\n",
       "\n",
       "    .dataframe thead th {\n",
       "        text-align: right;\n",
       "    }\n",
       "</style>\n",
       "<table border=\"1\" class=\"dataframe\">\n",
       "  <thead>\n",
       "    <tr style=\"text-align: right;\">\n",
       "      <th></th>\n",
       "      <th>ds</th>\n",
       "      <th>yhat</th>\n",
       "      <th>yhat_lower</th>\n",
       "      <th>yhat_upper</th>\n",
       "    </tr>\n",
       "  </thead>\n",
       "  <tbody>\n",
       "    <tr>\n",
       "      <th>65890</th>\n",
       "      <td>2014-11-26 10:24:54</td>\n",
       "      <td>26.800872</td>\n",
       "      <td>-32.713605</td>\n",
       "      <td>80.769317</td>\n",
       "    </tr>\n",
       "    <tr>\n",
       "      <th>65891</th>\n",
       "      <td>2014-11-27 10:24:54</td>\n",
       "      <td>18.387346</td>\n",
       "      <td>-42.503287</td>\n",
       "      <td>77.436267</td>\n",
       "    </tr>\n",
       "    <tr>\n",
       "      <th>65892</th>\n",
       "      <td>2014-11-28 10:24:54</td>\n",
       "      <td>20.098606</td>\n",
       "      <td>-37.724226</td>\n",
       "      <td>82.121784</td>\n",
       "    </tr>\n",
       "    <tr>\n",
       "      <th>65893</th>\n",
       "      <td>2014-11-29 10:24:54</td>\n",
       "      <td>14.905430</td>\n",
       "      <td>-47.168223</td>\n",
       "      <td>77.136875</td>\n",
       "    </tr>\n",
       "    <tr>\n",
       "      <th>65894</th>\n",
       "      <td>2014-11-30 10:24:54</td>\n",
       "      <td>20.976613</td>\n",
       "      <td>-39.228527</td>\n",
       "      <td>82.566931</td>\n",
       "    </tr>\n",
       "  </tbody>\n",
       "</table>\n",
       "</div>"
      ],
      "text/plain": [
       "                       ds       yhat  yhat_lower  yhat_upper\n",
       "65890 2014-11-26 10:24:54  26.800872  -32.713605   80.769317\n",
       "65891 2014-11-27 10:24:54  18.387346  -42.503287   77.436267\n",
       "65892 2014-11-28 10:24:54  20.098606  -37.724226   82.121784\n",
       "65893 2014-11-29 10:24:54  14.905430  -47.168223   77.136875\n",
       "65894 2014-11-30 10:24:54  20.976613  -39.228527   82.566931"
      ]
     },
     "execution_count": 376,
     "metadata": {},
     "output_type": "execute_result"
    }
   ],
   "source": [
    "forecast = fb_prophet.predict(future)\n",
    "forecast[['ds', 'yhat', 'yhat_lower', 'yhat_upper']].tail()\n"
   ]
  },
  {
   "cell_type": "code",
   "execution_count": 377,
   "metadata": {},
   "outputs": [
    {
     "data": {
      "image/png": "[encoded data removed]",
      "text/plain": [
       "<Figure size 720x432 with 1 Axes>"
      ]
     },
     "metadata": {},
     "output_type": "display_data"
    }
   ],
   "source": [
    "fig1 = fb_prophet.plot(forecast)\n"
   ]
  },
  {
   "cell_type": "code",
   "execution_count": 378,
   "metadata": {},
   "outputs": [
    {
     "data": {
      "image/png": "[encoded data removed]",
      "text/plain": [
       "<Figure size 648x648 with 3 Axes>"
      ]
     },
     "metadata": {},
     "output_type": "display_data"
    }
   ],
   "source": [
    "fig = fb_prophet.plot_components(forecast)"
   ]
  },
  {
   "cell_type": "code",
   "execution_count": 18,
   "metadata": {},
   "outputs": [
    {
     "data": {
      "text/plain": [
       "['/Volumes/SeagateBlue/ds_data/dark_net_market/dnmarchives_rsync_expanded/grams/2014-06-09/1776.csv',\n",
       " '/Volumes/SeagateBlue/ds_data/dark_net_market/dnmarchives_rsync_expanded/grams/2014-06-09/ADM.csv',\n",
       " '/Volumes/SeagateBlue/ds_data/dark_net_market/dnmarchives_rsync_expanded/grams/2014-06-09/Agora.csv',\n",
       " '/Volumes/SeagateBlue/ds_data/dark_net_market/dnmarchives_rsync_expanded/grams/2014-06-09/BB.csv',\n",
       " '/Volumes/SeagateBlue/ds_data/dark_net_market/dnmarchives_rsync_expanded/grams/2014-06-09/Bungee54.csv']"
      ]
     },
     "execution_count": 18,
     "metadata": {},
     "output_type": "execute_result"
    }
   ],
   "source": [
    "grams_csv[:5]"
   ]
  },
  {
   "cell_type": "code",
   "execution_count": 19,
   "metadata": {},
   "outputs": [],
   "source": [
    "grams_df = pd.concat([pd.read_csv(\n",
    "    f, \n",
    "    memory_map=True,\n",
    "    usecols=['price', 'name', 'add_time'],\n",
    "    dtype={'price':'float64', 'name':'object', 'add_time':'int64'}) for f in grams_csv], \n",
    "                              ignore_index=True)"
   ]
  },
  {
   "cell_type": "code",
   "execution_count": 20,
   "metadata": {},
   "outputs": [
    {
     "data": {
      "text/plain": [
       "(12384326, 3)"
      ]
     },
     "execution_count": 20,
     "metadata": {},
     "output_type": "execute_result"
    }
   ],
   "source": [
    "grams_df.shape"
   ]
  },
  {
   "cell_type": "code",
   "execution_count": 21,
   "metadata": {},
   "outputs": [
    {
     "data": {
      "text/plain": [
       "'1285.54 MB'"
      ]
     },
     "execution_count": 21,
     "metadata": {},
     "output_type": "execute_result"
    }
   ],
   "source": [
    "\"{:03.2f} MB\".format(grams_df.memory_usage(deep=True).sum() / 1024 ** 2)"
   ]
  },
  {
   "cell_type": "code",
   "execution_count": 25,
   "metadata": {},
   "outputs": [
    {
     "data": {
      "text/plain": [
       "price          0\n",
       "name        8999\n",
       "add_time       0\n",
       "dtype: int64"
      ]
     },
     "execution_count": 25,
     "metadata": {},
     "output_type": "execute_result"
    }
   ],
   "source": [
    "grams_df.isna().sum()"
   ]
  },
  {
   "cell_type": "code",
   "execution_count": 27,
   "metadata": {},
   "outputs": [
    {
     "data": {
      "text/plain": [
       "(12375327, 3)"
      ]
     },
     "execution_count": 27,
     "metadata": {},
     "output_type": "execute_result"
    }
   ],
   "source": [
    "grams_df.dropna(inplace=True)\n",
    "grams_df.shape"
   ]
  },
  {
   "cell_type": "code",
   "execution_count": 7,
   "metadata": {},
   "outputs": [],
   "source": [
    "import dask.dataframe as dd"
   ]
  },
  {
   "cell_type": "code",
   "execution_count": 8,
   "metadata": {},
   "outputs": [],
   "source": [
    "df = dd.read_csv('/Volumes/SeagateBlue/ds_data/dark_net_market/dnmarchives_rsync_expanded/grams/*/*.csv',\n",
    "                 usecols=['price', 'name', 'add_time'],\n",
    "                 dtype={'price':'float64', 'name':'object', 'add_time':'int64'},\n",
    "                 parse_dates=['add_time'])"
   ]
  },
  {
   "cell_type": "code",
   "execution_count": 4,
   "metadata": {},
   "outputs": [
    {
     "data": {
      "text/html": [
       "<div>\n",
       "<style scoped>\n",
       "    .dataframe tbody tr th:only-of-type {\n",
       "        vertical-align: middle;\n",
       "    }\n",
       "\n",
       "    .dataframe tbody tr th {\n",
       "        vertical-align: top;\n",
       "    }\n",
       "\n",
       "    .dataframe thead th {\n",
       "        text-align: right;\n",
       "    }\n",
       "</style>\n",
       "<table border=\"1\" class=\"dataframe\">\n",
       "  <thead>\n",
       "    <tr style=\"text-align: right;\">\n",
       "      <th></th>\n",
       "      <th>price</th>\n",
       "      <th>name</th>\n",
       "      <th>add_time</th>\n",
       "    </tr>\n",
       "  </thead>\n",
       "  <tbody>\n",
       "    <tr>\n",
       "      <th>0</th>\n",
       "      <td>50.00</td>\n",
       "      <td>1 gr indian Ketamin</td>\n",
       "      <td>1399918210</td>\n",
       "    </tr>\n",
       "    <tr>\n",
       "      <th>1</th>\n",
       "      <td>0.25</td>\n",
       "      <td>Get Yer Bitcoins Here My BTC for your Reloads</td>\n",
       "      <td>1399572372</td>\n",
       "    </tr>\n",
       "    <tr>\n",
       "      <th>2</th>\n",
       "      <td>225.00</td>\n",
       "      <td>1oz Vintage 2006 AAA Greenhouse BC Bud</td>\n",
       "      <td>1401051987</td>\n",
       "    </tr>\n",
       "    <tr>\n",
       "      <th>3</th>\n",
       "      <td>360.00</td>\n",
       "      <td>1 8oz AAA Critical Plus BC Bud Greenhouse</td>\n",
       "      <td>1401051986</td>\n",
       "    </tr>\n",
       "    <tr>\n",
       "      <th>4</th>\n",
       "      <td>200.00</td>\n",
       "      <td>1oz AAA Critical Plus BC Bud Greenhouse</td>\n",
       "      <td>1401051986</td>\n",
       "    </tr>\n",
       "  </tbody>\n",
       "</table>\n",
       "</div>"
      ],
      "text/plain": [
       "    price                                           name    add_time\n",
       "0   50.00                            1 gr indian Ketamin  1399918210\n",
       "1    0.25  Get Yer Bitcoins Here My BTC for your Reloads  1399572372\n",
       "2  225.00         1oz Vintage 2006 AAA Greenhouse BC Bud  1401051987\n",
       "3  360.00      1 8oz AAA Critical Plus BC Bud Greenhouse  1401051986\n",
       "4  200.00        1oz AAA Critical Plus BC Bud Greenhouse  1401051986"
      ]
     },
     "execution_count": 4,
     "metadata": {},
     "output_type": "execute_result"
    }
   ],
   "source": [
    "df.head(5)"
   ]
  },
  {
   "cell_type": "code",
   "execution_count": 7,
   "metadata": {},
   "outputs": [
    {
     "data": {
      "text/plain": [
       "12384326"
      ]
     },
     "execution_count": 7,
     "metadata": {},
     "output_type": "execute_result"
    }
   ],
   "source": [
    "len(df)"
   ]
  },
  {
   "cell_type": "code",
   "execution_count": null,
   "metadata": {},
   "outputs": [],
   "source": [
    "from dask.distributed import Client"
   ]
  },
  {
   "cell_type": "code",
   "execution_count": 9,
   "metadata": {},
   "outputs": [],
   "source": [
    "client = Client()"
   ]
  },
  {
   "cell_type": "code",
   "execution_count": 10,
   "metadata": {},
   "outputs": [],
   "source": [
    "df = df.dropna()"
   ]
  },
  {
   "cell_type": "code",
   "execution_count": 11,
   "metadata": {},
   "outputs": [],
   "source": [
    "transformed_df = df.name.map(alphanumeric).map(punc_lower)"
   ]
  },
  {
   "cell_type": "code",
   "execution_count": 12,
   "metadata": {},
   "outputs": [
    {
     "ename": "NotImplementedError",
     "evalue": "",
     "output_type": "error",
     "traceback": [
      "\u001b[0;31m---------------------------------------------------------------------------\u001b[0m",
      "\u001b[0;31mNotImplementedError\u001b[0m                       Traceback (most recent call last)",
      "\u001b[0;32m<ipython-input-12-65e50808d882>\u001b[0m in \u001b[0;36m<module>\u001b[0;34m()\u001b[0m\n\u001b[0;32m----> 1\u001b[0;31m \u001b[0mpredicted_categories_df\u001b[0m \u001b[0;34m=\u001b[0m \u001b[0mnb\u001b[0m\u001b[0;34m.\u001b[0m\u001b[0mpredict\u001b[0m\u001b[0;34m(\u001b[0m\u001b[0mcv1\u001b[0m\u001b[0;34m.\u001b[0m\u001b[0mtransform\u001b[0m\u001b[0;34m(\u001b[0m\u001b[0mtransformed_df\u001b[0m\u001b[0;34m)\u001b[0m\u001b[0;34m)\u001b[0m\u001b[0;34m\u001b[0m\u001b[0m\n\u001b[0m",
      "\u001b[0;32m~/anaconda3/lib/python3.6/site-packages/sklearn/feature_extraction/text.py\u001b[0m in \u001b[0;36mtransform\u001b[0;34m(self, raw_documents)\u001b[0m\n\u001b[1;32m   1064\u001b[0m \u001b[0;34m\u001b[0m\u001b[0m\n\u001b[1;32m   1065\u001b[0m         \u001b[0;31m# use the same matrix-building strategy as fit_transform\u001b[0m\u001b[0;34m\u001b[0m\u001b[0;34m\u001b[0m\u001b[0m\n\u001b[0;32m-> 1066\u001b[0;31m         \u001b[0m_\u001b[0m\u001b[0;34m,\u001b[0m \u001b[0mX\u001b[0m \u001b[0;34m=\u001b[0m \u001b[0mself\u001b[0m\u001b[0;34m.\u001b[0m\u001b[0m_count_vocab\u001b[0m\u001b[0;34m(\u001b[0m\u001b[0mraw_documents\u001b[0m\u001b[0;34m,\u001b[0m \u001b[0mfixed_vocab\u001b[0m\u001b[0;34m=\u001b[0m\u001b[0;32mTrue\u001b[0m\u001b[0;34m)\u001b[0m\u001b[0;34m\u001b[0m\u001b[0m\n\u001b[0m\u001b[1;32m   1067\u001b[0m         \u001b[0;32mif\u001b[0m \u001b[0mself\u001b[0m\u001b[0;34m.\u001b[0m\u001b[0mbinary\u001b[0m\u001b[0;34m:\u001b[0m\u001b[0;34m\u001b[0m\u001b[0m\n\u001b[1;32m   1068\u001b[0m             \u001b[0mX\u001b[0m\u001b[0;34m.\u001b[0m\u001b[0mdata\u001b[0m\u001b[0;34m.\u001b[0m\u001b[0mfill\u001b[0m\u001b[0;34m(\u001b[0m\u001b[0;36m1\u001b[0m\u001b[0;34m)\u001b[0m\u001b[0;34m\u001b[0m\u001b[0m\n",
      "\u001b[0;32m~/anaconda3/lib/python3.6/site-packages/sklearn/feature_extraction/text.py\u001b[0m in \u001b[0;36m_count_vocab\u001b[0;34m(self, raw_documents, fixed_vocab)\u001b[0m\n\u001b[1;32m    918\u001b[0m         \u001b[0mvalues\u001b[0m \u001b[0;34m=\u001b[0m \u001b[0m_make_int_array\u001b[0m\u001b[0;34m(\u001b[0m\u001b[0;34m)\u001b[0m\u001b[0;34m\u001b[0m\u001b[0m\n\u001b[1;32m    919\u001b[0m         \u001b[0mindptr\u001b[0m\u001b[0;34m.\u001b[0m\u001b[0mappend\u001b[0m\u001b[0;34m(\u001b[0m\u001b[0;36m0\u001b[0m\u001b[0;34m)\u001b[0m\u001b[0;34m\u001b[0m\u001b[0m\n\u001b[0;32m--> 920\u001b[0;31m         \u001b[0;32mfor\u001b[0m \u001b[0mdoc\u001b[0m \u001b[0;32min\u001b[0m \u001b[0mraw_documents\u001b[0m\u001b[0;34m:\u001b[0m\u001b[0;34m\u001b[0m\u001b[0m\n\u001b[0m\u001b[1;32m    921\u001b[0m             \u001b[0mfeature_counter\u001b[0m \u001b[0;34m=\u001b[0m \u001b[0;34m{\u001b[0m\u001b[0;34m}\u001b[0m\u001b[0;34m\u001b[0m\u001b[0m\n\u001b[1;32m    922\u001b[0m             \u001b[0;32mfor\u001b[0m \u001b[0mfeature\u001b[0m \u001b[0;32min\u001b[0m \u001b[0manalyze\u001b[0m\u001b[0;34m(\u001b[0m\u001b[0mdoc\u001b[0m\u001b[0;34m)\u001b[0m\u001b[0;34m:\u001b[0m\u001b[0;34m\u001b[0m\u001b[0m\n",
      "\u001b[0;32m~/anaconda3/lib/python3.6/site-packages/dask/dataframe/core.py\u001b[0m in \u001b[0;36m__getitem__\u001b[0;34m(self, key)\u001b[0m\n\u001b[1;32m   1931\u001b[0m             return Series(merge(self.dask, key.dask, dsk), name,\n\u001b[1;32m   1932\u001b[0m                           self._meta, self.divisions)\n\u001b[0;32m-> 1933\u001b[0;31m         \u001b[0;32mraise\u001b[0m \u001b[0mNotImplementedError\u001b[0m\u001b[0;34m(\u001b[0m\u001b[0;34m)\u001b[0m\u001b[0;34m\u001b[0m\u001b[0m\n\u001b[0m\u001b[1;32m   1934\u001b[0m \u001b[0;34m\u001b[0m\u001b[0m\n\u001b[1;32m   1935\u001b[0m     \u001b[0;34m@\u001b[0m\u001b[0mderived_from\u001b[0m\u001b[0;34m(\u001b[0m\u001b[0mpd\u001b[0m\u001b[0;34m.\u001b[0m\u001b[0mDataFrame\u001b[0m\u001b[0;34m)\u001b[0m\u001b[0;34m\u001b[0m\u001b[0m\n",
      "\u001b[0;31mNotImplementedError\u001b[0m: "
     ]
    }
   ],
   "source": [
    "predicted_categories_df = nb.predict(cv1.transform(transformed_df))"
   ]
  },
  {
   "cell_type": "code",
   "execution_count": null,
   "metadata": {},
   "outputs": [],
   "source": [
    "df = df[predicted_categories_df == 50]"
   ]
  },
  {
   "cell_type": "code",
   "execution_count": null,
   "metadata": {},
   "outputs": [],
   "source": [
    "size_of_items = df.name.str.lower().str.extract(\n",
    "    r'(?P<quantity>\\d*)\\s(?P<weight>\\d*\\.?\\d+)\\s?(?P<si_unit>kg|g|mg|mcg|oz|ounce|ounces|lb|pound|ml|mcl|liter|litre)')\n"
   ]
  },
  {
   "cell_type": "code",
   "execution_count": null,
   "metadata": {},
   "outputs": [],
   "source": [
    "size_of_items = size_of_items.dropna()"
   ]
  },
  {
   "cell_type": "code",
   "execution_count": null,
   "metadata": {},
   "outputs": [],
   "source": [
    "def convert_si(si_unit):\n",
    "    data = {'mg':1e-3, 'g': 1., 'oz': 28.35, 'ml': 1e-3, \n",
    "            'lb': 453.59, 'pound': 453.59,\n",
    "            'mcg': 1e-6, 'ounce': 28.35, 'kg': 1e3, 'liter': 1e3}\n",
    "    return data[si_unit]"
   ]
  },
  {
   "cell_type": "code",
   "execution_count": null,
   "metadata": {},
   "outputs": [],
   "source": [
    "# price divided by the quantity of multiplying quantity, weight, and si unit converted to grams\n",
    "adj_price = df.iloc[size_of_items.index].price / \\\n",
    "    (size_of_items.quantity.apply(lambda x: 1 if x=='' else int(x)) \\\n",
    "    * size_of_items.weight.apply(float) * size_of_items.si_unit.apply(convert_si))"
   ]
  },
  {
   "cell_type": "code",
   "execution_count": null,
   "metadata": {},
   "outputs": [],
   "source": [
    "df_price_cat_time = \\\n",
    "dd.DataFrame({'adj_price': adj_price,\n",
    "              'category': predicted_categories_df[size_of_items.index],\n",
    "              'add_time': df.iloc[size_of_items.index].add_time\n",
    "             }\n",
    "            )"
   ]
  },
  {
   "cell_type": "code",
   "execution_count": null,
   "metadata": {},
   "outputs": [],
   "source": [
    "prophet_transformed = df_price_cat_time[['add_time', 'adj_price']]\\\n",
    ".transform({'add_time': pd.Timestamp.fromtimestamp, 'adj_price': lambda x: x})\\\n",
    ".rename(columns={'add_time': 'ds', 'adj_price': 'y'})"
   ]
  },
  {
   "cell_type": "code",
   "execution_count": null,
   "metadata": {},
   "outputs": [],
   "source": [
    "quantiles = prophet_transformed.y.quantile([.0001, .95])"
   ]
  },
  {
   "cell_type": "code",
   "execution_count": null,
   "metadata": {},
   "outputs": [],
   "source": [
    "prophet_transformed = prophet_transformed[\n",
    "    (prophet_transformed.y > quantiles.iloc[0]) & (prophet_transformed.y < quantiles.iloc[1])\n",
    "].replace([np.inf, -np.inf], np.nan)"
   ]
  },
  {
   "cell_type": "code",
   "execution_count": null,
   "metadata": {},
   "outputs": [],
   "source": [
    "prophet_transformed.to_hdf('output-*.hdf', '/Volumes/SeagateBlue/ds_data/dark_net_market/prophet')"
   ]
  }
 ],
 "metadata": {
  "kernelspec": {
   "display_name": "Python [conda root]",
   "language": "python",
   "name": "conda-root-py"
  },
  "language_info": {
   "codemirror_mode": {
    "name": "ipython",
    "version": 3
   },
   "file_extension": ".py",
   "mimetype": "text/x-python",
   "name": "python",
   "nbconvert_exporter": "python",
   "pygments_lexer": "ipython3",
   "version": "3.6.5"
  }
 },
 "nbformat": 4,
 "nbformat_minor": 2
}
